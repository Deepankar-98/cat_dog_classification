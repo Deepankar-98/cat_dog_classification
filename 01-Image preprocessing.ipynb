{
 "cells": [
  {
   "cell_type": "code",
   "execution_count": 1,
   "metadata": {},
   "outputs": [],
   "source": [
    "import os\n",
    "import shutil"
   ]
  },
  {
   "cell_type": "code",
   "execution_count": 2,
   "metadata": {},
   "outputs": [
    {
     "data": {
      "text/plain": [
       "'C:\\\\Users\\\\DEEPANKAR MULLICK\\\\Desktop\\\\DogCat Classifier'"
      ]
     },
     "execution_count": 2,
     "metadata": {},
     "output_type": "execute_result"
    }
   ],
   "source": [
    "cwd = os.getcwd()\n",
    "cwd"
   ]
  },
  {
   "cell_type": "code",
   "execution_count": 3,
   "metadata": {},
   "outputs": [],
   "source": [
    "train_path = os.path.join('datasets', 'extracted_data', 'train')\n",
    "train_cat = os.path.join(train_path, 'cat')\n",
    "train_dog = os.path.join(train_path, 'dog')"
   ]
  },
  {
   "cell_type": "code",
   "execution_count": 4,
   "metadata": {},
   "outputs": [],
   "source": [
    "# Creating directory storing data to be read while creating the model.\n",
    "os.makedirs(train_cat, exist_ok=True)\n",
    "os.makedirs (train_dog, exist_ok=True)"
   ]
  },
  {
   "cell_type": "code",
   "execution_count": 5,
   "metadata": {},
   "outputs": [
    {
     "name": "stdout",
     "output_type": "stream",
     "text": [
      "No: of Cat images moved: 0\n",
      "No: of Dog images moved: 0\n",
      "\n",
      "\n",
      "Failed to move:\n",
      "['cat', 'dog']\n",
      "[True, True]\n"
     ]
    }
   ],
   "source": [
    "# We only need to segrigate for train dataset.\n",
    "countc = 0\n",
    "countd = 0\n",
    "not_copied = []\n",
    "is_dir = []\n",
    "for file in os.listdir(train_path):\n",
    "    try:\n",
    "        if file.lower().startswith('cat'):\n",
    "            shutil.move(os.path.join(train_path, file), os.path.join(train_cat, file))\n",
    "            countc += 1\n",
    "        elif file.lower().startswith('dog'):\n",
    "            shutil.move(os.path.join(train_path, file), os.path.join(train_dog, file))\n",
    "            count += 1\n",
    "    except:\n",
    "        not_copied.append(file)\n",
    "        is_dir.append(os.path.isdir(os.path.join(train_path, file)))\n",
    "        \n",
    "print(f'No: of Cat images moved: {countc}')\n",
    "print(f'No: of Dog images moved: {countd}')\n",
    "print(\"\\n\\nFailed to move:\", not_copied, \"\\nIs Folder\",is_dir, sep='\\n')"
   ]
  },
  {
   "cell_type": "code",
   "execution_count": 11,
   "metadata": {},
   "outputs": [
    {
     "data": {
      "text/plain": [
       "'datasets/extracted_data/test/0'"
      ]
     },
     "execution_count": 11,
     "metadata": {},
     "output_type": "execute_result"
    }
   ],
   "source": [
    "shutil.move('datasets/extracted_data/test1', 'datasets/extracted_data/test/0')"
   ]
  },
  {
   "cell_type": "code",
   "execution_count": null,
   "metadata": {},
   "outputs": [],
   "source": []
  }
 ],
 "metadata": {
  "kernelspec": {
   "display_name": "Python 3 (ipykernel)",
   "language": "python",
   "name": "python3"
  },
  "language_info": {
   "codemirror_mode": {
    "name": "ipython",
    "version": 3
   },
   "file_extension": ".py",
   "mimetype": "text/x-python",
   "name": "python",
   "nbconvert_exporter": "python",
   "pygments_lexer": "ipython3",
   "version": "3.9.6"
  }
 },
 "nbformat": 4,
 "nbformat_minor": 4
}

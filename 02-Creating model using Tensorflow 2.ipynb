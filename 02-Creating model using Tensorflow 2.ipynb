{
 "cells": [
  {
   "cell_type": "markdown",
   "metadata": {
    "id": "46LgglFR8Os2"
   },
   "source": [
    "# Reference links:\n",
    "\n",
    "- https://medium.com/analytics-vidhya/how-to-choose-the-size-of-the-convolution-filter-or-kernel-size-for-cnn-86a55a1e2d15\n",
    "- [Image Preprocessing](https://keras.io/api/preprocessing/image/)\n",
    "- [Overfitting & Underfitting](https://www.tensorflow.org/tutorials/keras/overfit_and_underfit)\n",
    "- [Keras Tuner](https://www.tensorflow.org/tutorials/keras/keras_tuner)"
   ]
  },
  {
   "cell_type": "markdown",
   "metadata": {
    "id": "YPXhYitw8OtG"
   },
   "source": [
    "## Also check the following callbacks:\n",
    "\n",
    "- ModelCheckpointing\n",
    "\n",
    "https://www.tensorflow.org/tutorials/keras/save_and_load\n",
    "\n",
    "https://machinelearningmastery.com/check-point-deep-learning-models-keras/\n",
    "\n",
    "- EarlyStopping\n",
    "- tensorboard"
   ]
  },
  {
   "cell_type": "markdown",
   "metadata": {
    "id": "vSkLhjvdPZS2"
   },
   "source": [
    "## Additional Information About Hardware:"
   ]
  },
  {
   "cell_type": "code",
   "execution_count": 1,
   "metadata": {
    "colab": {
     "base_uri": "https://localhost:8080/"
    },
    "executionInfo": {
     "elapsed": 2927,
     "status": "ok",
     "timestamp": 1608868902909,
     "user": {
      "displayName": "Deepankar Mullick",
      "photoUrl": "https://lh3.googleusercontent.com/a-/AOh14Ggmz-Nr-0TEMVo13LngNEVm6AGK4c57E-3nMbfK=s64",
      "userId": "02437168663279872146"
     },
     "user_tz": -330
    },
    "id": "1xawbJNX8gFn",
    "outputId": "12cbeba8-536f-458d-9152-1764350149d2"
   },
   "outputs": [
    {
     "name": "stdout",
     "output_type": "stream",
     "text": [
      "NVIDIA-SMI has failed because it couldn't communicate with the NVIDIA driver. Make sure that the latest NVIDIA driver is installed and running.\n",
      "\n"
     ]
    }
   ],
   "source": [
    "!nvidia-smi"
   ]
  },
  {
   "cell_type": "code",
   "execution_count": null,
   "metadata": {
    "id": "blK9bty7Pn2w"
   },
   "outputs": [],
   "source": [
    "from tensorflow.python.client import  device_lib\n",
    "device_lib.list_local_devices()"
   ]
  },
  {
   "cell_type": "code",
   "execution_count": null,
   "metadata": {
    "id": "-ODxho7LPoBD"
   },
   "outputs": [],
   "source": [
    "!cat /proc/cpuinfo/"
   ]
  },
  {
   "cell_type": "code",
   "execution_count": null,
   "metadata": {
    "id": "bnBRD7dXQGjQ"
   },
   "outputs": [],
   "source": [
    "!cat /proc/meminfo"
   ]
  },
  {
   "cell_type": "markdown",
   "metadata": {
    "id": "vCFxCM6CQLKu"
   },
   "source": [
    "## Mounting Google Drive:"
   ]
  },
  {
   "cell_type": "code",
   "execution_count": 2,
   "metadata": {
    "colab": {
     "base_uri": "https://localhost:8080/"
    },
    "executionInfo": {
     "elapsed": 33081,
     "status": "ok",
     "timestamp": 1608868934103,
     "user": {
      "displayName": "Deepankar Mullick",
      "photoUrl": "https://lh3.googleusercontent.com/a-/AOh14Ggmz-Nr-0TEMVo13LngNEVm6AGK4c57E-3nMbfK=s64",
      "userId": "02437168663279872146"
     },
     "user_tz": -330
    },
    "id": "qD-F1cmo8glO",
    "outputId": "f7a8f13f-5e51-4456-cea3-15618d20fb20"
   },
   "outputs": [
    {
     "name": "stdout",
     "output_type": "stream",
     "text": [
      "Mounted at /content/drive\n"
     ]
    }
   ],
   "source": [
    "from google.colab import drive\n",
    "drive.mount('/content/drive')"
   ]
  },
  {
   "cell_type": "code",
   "execution_count": null,
   "metadata": {
    "id": "HQfPiP2WQQa7"
   },
   "outputs": [],
   "source": []
  },
  {
   "cell_type": "markdown",
   "metadata": {
    "id": "hJuC2LEPQR0E"
   },
   "source": [
    "# Model Creation Code:"
   ]
  },
  {
   "cell_type": "code",
   "execution_count": 39,
   "metadata": {
    "executionInfo": {
     "elapsed": 1369,
     "status": "ok",
     "timestamp": 1608878672335,
     "user": {
      "displayName": "Deepankar Mullick",
      "photoUrl": "https://lh3.googleusercontent.com/a-/AOh14Ggmz-Nr-0TEMVo13LngNEVm6AGK4c57E-3nMbfK=s64",
      "userId": "02437168663279872146"
     },
     "user_tz": -330
    },
    "id": "O_fM_d1f8OtI"
   },
   "outputs": [],
   "source": [
    "import os\n",
    "import numpy as np\n",
    "import pandas as pd\n",
    "import matplotlib.pyplot as plt\n",
    "import tensorflow as tf\n",
    "from tensorflow.keras.layers import Conv2D\n",
    "from tensorflow.keras.preprocessing.image import ImageDataGenerator"
   ]
  },
  {
   "cell_type": "code",
   "execution_count": 4,
   "metadata": {
    "colab": {
     "base_uri": "https://localhost:8080/",
     "height": 35
    },
    "executionInfo": {
     "elapsed": 3103,
     "status": "ok",
     "timestamp": 1608869366191,
     "user": {
      "displayName": "Deepankar Mullick",
      "photoUrl": "https://lh3.googleusercontent.com/a-/AOh14Ggmz-Nr-0TEMVo13LngNEVm6AGK4c57E-3nMbfK=s64",
      "userId": "02437168663279872146"
     },
     "user_tz": -330
    },
    "id": "aW9uekR68OtK",
    "outputId": "5865294b-1380-4b3a-e77e-31ebb5f305e3"
   },
   "outputs": [
    {
     "data": {
      "application/vnd.google.colaboratory.intrinsic+json": {
       "type": "string"
      },
      "text/plain": [
       "'2.4.0'"
      ]
     },
     "execution_count": 4,
     "metadata": {
      "tags": []
     },
     "output_type": "execute_result"
    }
   ],
   "source": [
    "tf.__version__"
   ]
  },
  {
   "cell_type": "code",
   "execution_count": 5,
   "metadata": {
    "executionInfo": {
     "elapsed": 2639,
     "status": "ok",
     "timestamp": 1608869366199,
     "user": {
      "displayName": "Deepankar Mullick",
      "photoUrl": "https://lh3.googleusercontent.com/a-/AOh14Ggmz-Nr-0TEMVo13LngNEVm6AGK4c57E-3nMbfK=s64",
      "userId": "02437168663279872146"
     },
     "user_tz": -330
    },
    "id": "rRG9N5Z28OtM"
   },
   "outputs": [],
   "source": [
    "os.chdir('/content/drive/MyDrive/dogCatClassifier') # Only un-comment if rumming in google colab"
   ]
  },
  {
   "cell_type": "code",
   "execution_count": 6,
   "metadata": {
    "colab": {
     "base_uri": "https://localhost:8080/",
     "height": 35
    },
    "executionInfo": {
     "elapsed": 2260,
     "status": "ok",
     "timestamp": 1608869366202,
     "user": {
      "displayName": "Deepankar Mullick",
      "photoUrl": "https://lh3.googleusercontent.com/a-/AOh14Ggmz-Nr-0TEMVo13LngNEVm6AGK4c57E-3nMbfK=s64",
      "userId": "02437168663279872146"
     },
     "user_tz": -330
    },
    "id": "0sNZ-x588OtN",
    "outputId": "483d4ebd-4975-4763-ad32-c2baf1c86c6f"
   },
   "outputs": [
    {
     "data": {
      "application/vnd.google.colaboratory.intrinsic+json": {
       "type": "string"
      },
      "text/plain": [
       "'/content/drive/MyDrive/dogCatClassifier'"
      ]
     },
     "execution_count": 6,
     "metadata": {
      "tags": []
     },
     "output_type": "execute_result"
    }
   ],
   "source": [
    "os.getcwd()"
   ]
  },
  {
   "cell_type": "code",
   "execution_count": null,
   "metadata": {},
   "outputs": [],
   "source": []
  },
  {
   "cell_type": "markdown",
   "metadata": {
    "id": "Cdt8lOi5Qd_a"
   },
   "source": [
    "### Reading Data:"
   ]
  },
  {
   "cell_type": "code",
   "execution_count": 7,
   "metadata": {
    "colab": {
     "base_uri": "https://localhost:8080/",
     "height": 35
    },
    "executionInfo": {
     "elapsed": 1687,
     "status": "ok",
     "timestamp": 1608869366204,
     "user": {
      "displayName": "Deepankar Mullick",
      "photoUrl": "https://lh3.googleusercontent.com/a-/AOh14Ggmz-Nr-0TEMVo13LngNEVm6AGK4c57E-3nMbfK=s64",
      "userId": "02437168663279872146"
     },
     "user_tz": -330
    },
    "id": "zWw9z-OK8OtO",
    "outputId": "d2b03317-2f67-4ec0-b6e9-1ed434e80aa6"
   },
   "outputs": [
    {
     "data": {
      "application/vnd.google.colaboratory.intrinsic+json": {
       "type": "string"
      },
      "text/plain": [
       "'/content/drive/MyDrive/dogCatClassifier/datasets/extracted_data/train'"
      ]
     },
     "execution_count": 7,
     "metadata": {
      "tags": []
     },
     "output_type": "execute_result"
    }
   ],
   "source": [
    "data_path_train = os.path.join(os.getcwd(), 'datasets', 'extracted_data', 'train') \n",
    "data_path_train"
   ]
  },
  {
   "cell_type": "code",
   "execution_count": 24,
   "metadata": {
    "executionInfo": {
     "elapsed": 1121,
     "status": "ok",
     "timestamp": 1608871466585,
     "user": {
      "displayName": "Deepankar Mullick",
      "photoUrl": "https://lh3.googleusercontent.com/a-/AOh14Ggmz-Nr-0TEMVo13LngNEVm6AGK4c57E-3nMbfK=s64",
      "userId": "02437168663279872146"
     },
     "user_tz": -330
    },
    "id": "RHAsVe1W8Otg"
   },
   "outputs": [],
   "source": [
    "# Data Preprocessing:\n",
    "\n",
    "#1. Define image preprocessor for train\n",
    "img_train_read = ImageDataGenerator(rescale = 1./255,\n",
    "                                   shear_range = 0.2,\n",
    "                                   zoom_range = 0.2,\n",
    "                                   horizontal_flip = True,\n",
    "                                   brightness_range = [0.7, 1.0],\n",
    "                                   rotation_range = 20,\n",
    "                                   validation_split=0.2\n",
    "                              )"
   ]
  },
  {
   "cell_type": "code",
   "execution_count": 25,
   "metadata": {
    "colab": {
     "base_uri": "https://localhost:8080/"
    },
    "executionInfo": {
     "elapsed": 1801,
     "status": "ok",
     "timestamp": 1608871469280,
     "user": {
      "displayName": "Deepankar Mullick",
      "photoUrl": "https://lh3.googleusercontent.com/a-/AOh14Ggmz-Nr-0TEMVo13LngNEVm6AGK4c57E-3nMbfK=s64",
      "userId": "02437168663279872146"
     },
     "user_tz": -330
    },
    "id": "2Uc3tTJF8Otj",
    "outputId": "f57530ee-640c-4a80-fb76-86cd73c620fb"
   },
   "outputs": [
    {
     "name": "stdout",
     "output_type": "stream",
     "text": [
      "Found 20001 images belonging to 2 classes.\n"
     ]
    }
   ],
   "source": [
    "# Training Dataset:\n",
    "\n",
    "train_generator = img_train_read.flow_from_directory(\n",
    "    data_path_train,\n",
    "    target_size = (150, 150),\n",
    "   color_mode = 'rgb',\n",
    "   batch_size = 64,\n",
    "   class_mode = 'binary',\n",
    "   shuffle = True,\n",
    "    subset='training') # set as training data"
   ]
  },
  {
   "cell_type": "code",
   "execution_count": 26,
   "metadata": {
    "colab": {
     "base_uri": "https://localhost:8080/"
    },
    "executionInfo": {
     "elapsed": 1577,
     "status": "ok",
     "timestamp": 1608871473892,
     "user": {
      "displayName": "Deepankar Mullick",
      "photoUrl": "https://lh3.googleusercontent.com/a-/AOh14Ggmz-Nr-0TEMVo13LngNEVm6AGK4c57E-3nMbfK=s64",
      "userId": "02437168663279872146"
     },
     "user_tz": -330
    },
    "id": "pDm9XTAV8Otk",
    "outputId": "aa4afc7f-20ed-46e5-be5d-5460a3b1e16e"
   },
   "outputs": [
    {
     "name": "stdout",
     "output_type": "stream",
     "text": [
      "Found 5000 images belonging to 2 classes.\n"
     ]
    }
   ],
   "source": [
    "# Validation Dataset:\n",
    "\n",
    "validation_generator = img_train_read.flow_from_directory(\n",
    "    \n",
    "    data_path_train,      # same directory as training data\n",
    "    \n",
    "    target_size = (150, 150),\n",
    "   color_mode = 'rgb',\n",
    "   batch_size = 64,\n",
    "   class_mode = 'binary',\n",
    "   shuffle = True,\n",
    "    subset='validation')         # set as validation data"
   ]
  },
  {
   "cell_type": "code",
   "execution_count": 1,
   "metadata": {
    "colab": {
     "base_uri": "https://localhost:8080/",
     "height": 387
    },
    "executionInfo": {
     "elapsed": 65527,
     "status": "error",
     "timestamp": 1608869432353,
     "user": {
      "displayName": "Deepankar Mullick",
      "photoUrl": "https://lh3.googleusercontent.com/a-/AOh14Ggmz-Nr-0TEMVo13LngNEVm6AGK4c57E-3nMbfK=s64",
      "userId": "02437168663279872146"
     },
     "user_tz": -330
    },
    "id": "CkkPohKL8Otm",
    "outputId": "6467000b-be8d-44ec-a7aa-3e39f74a7963"
   },
   "outputs": [],
   "source": [
    "# # Preprocessing the Test set\n",
    "\n",
    "# data_path_test = os.path.join(os.getcwd(), 'datasets', 'extracted_data', 'test')\n",
    "# test_datagen = ImageDataGenerator(rescale = 1./255)\n",
    "# test_set = test_datagen.flow_from_directory(data_path_test,\n",
    "#                                             target_size = (150, 150),\n",
    "#                                            color_mode = 'rgb',\n",
    "#                                            batch_size = 64,\n",
    "#                                            class_mode = 'binary',\n",
    "#                                            shuffle = True)"
   ]
  },
  {
   "cell_type": "code",
   "execution_count": null,
   "metadata": {
    "executionInfo": {
     "elapsed": 64399,
     "status": "aborted",
     "timestamp": 1608869432351,
     "user": {
      "displayName": "Deepankar Mullick",
      "photoUrl": "https://lh3.googleusercontent.com/a-/AOh14Ggmz-Nr-0TEMVo13LngNEVm6AGK4c57E-3nMbfK=s64",
      "userId": "02437168663279872146"
     },
     "user_tz": -330
    },
    "id": "WipLlF_E8Oto"
   },
   "outputs": [],
   "source": []
  },
  {
   "cell_type": "markdown",
   "metadata": {
    "id": "CKTL5yuc8Oto"
   },
   "source": [
    "## Creating CNN:"
   ]
  },
  {
   "cell_type": "markdown",
   "metadata": {
    "id": "YlktOvPF8Otu"
   },
   "source": [
    "In CNN does increasing the kernel_size result in underfitting or overfitting?\n",
    "\n",
    "It depends on the images, if you needed a lot of details from the image you don't need to increase your kernel size. ... Smaller kernel will gives you a lot of details, it can lead you to overfitting, but larger kernel will gives you loss a lot of details, it can lead you to underfitting"
   ]
  },
  {
   "cell_type": "code",
   "execution_count": 27,
   "metadata": {
    "executionInfo": {
     "elapsed": 735,
     "status": "ok",
     "timestamp": 1608871479838,
     "user": {
      "displayName": "Deepankar Mullick",
      "photoUrl": "https://lh3.googleusercontent.com/a-/AOh14Ggmz-Nr-0TEMVo13LngNEVm6AGK4c57E-3nMbfK=s64",
      "userId": "02437168663279872146"
     },
     "user_tz": -330
    },
    "id": "h0GQpGU28Otv"
   },
   "outputs": [],
   "source": [
    "cnn = tf.keras.models.Sequential()\n",
    "\n",
    "\n",
    "# Adding Layers.\n",
    "cnn.add(Conv2D(filters=32, kernel_size=3, padding='same', input_shape=[150, 150, 3], activation='relu'))  # kernel_initializer not required\n",
    "\n",
    "# Step 2 - Pooling\n",
    "cnn.add(tf.keras.layers.MaxPool2D(pool_size=2, strides=2))\n",
    "\n",
    "# Adding a second convolutional layer\n",
    "cnn.add(tf.keras.layers.Conv2D(filters=32, padding='same', kernel_size=3, activation='relu'))\n",
    "cnn.add(tf.keras.layers.MaxPool2D(pool_size=2, strides=2))\n",
    "\n",
    "# Step 3 - Flattening\n",
    "cnn.add(tf.keras.layers.Flatten())\n",
    "\n",
    "# Step 4 - Full Connection\n",
    "cnn.add(tf.keras.layers.Dense(units=256, activation='relu'))\n",
    "\n",
    "# Step 5 - Output Layer\n",
    "cnn.add(tf.keras.layers.Dense(units=1, activation='sigmoid'))"
   ]
  },
  {
   "cell_type": "code",
   "execution_count": 28,
   "metadata": {
    "colab": {
     "base_uri": "https://localhost:8080/"
    },
    "executionInfo": {
     "elapsed": 894,
     "status": "ok",
     "timestamp": 1608871480396,
     "user": {
      "displayName": "Deepankar Mullick",
      "photoUrl": "https://lh3.googleusercontent.com/a-/AOh14Ggmz-Nr-0TEMVo13LngNEVm6AGK4c57E-3nMbfK=s64",
      "userId": "02437168663279872146"
     },
     "user_tz": -330
    },
    "id": "1K9zKOZ18Oty",
    "outputId": "d4c8b8a2-bc60-4642-d21f-de2d49770662"
   },
   "outputs": [
    {
     "name": "stdout",
     "output_type": "stream",
     "text": [
      "Model: \"sequential_1\"\n",
      "_________________________________________________________________\n",
      "Layer (type)                 Output Shape              Param #   \n",
      "=================================================================\n",
      "conv2d_2 (Conv2D)            (None, 150, 150, 32)      896       \n",
      "_________________________________________________________________\n",
      "max_pooling2d_2 (MaxPooling2 (None, 75, 75, 32)        0         \n",
      "_________________________________________________________________\n",
      "conv2d_3 (Conv2D)            (None, 75, 75, 32)        9248      \n",
      "_________________________________________________________________\n",
      "max_pooling2d_3 (MaxPooling2 (None, 37, 37, 32)        0         \n",
      "_________________________________________________________________\n",
      "flatten_1 (Flatten)          (None, 43808)             0         \n",
      "_________________________________________________________________\n",
      "dense_2 (Dense)              (None, 256)               11215104  \n",
      "_________________________________________________________________\n",
      "dense_3 (Dense)              (None, 1)                 257       \n",
      "=================================================================\n",
      "Total params: 11,225,505\n",
      "Trainable params: 11,225,505\n",
      "Non-trainable params: 0\n",
      "_________________________________________________________________\n"
     ]
    }
   ],
   "source": [
    "cnn.summary()"
   ]
  },
  {
   "cell_type": "code",
   "execution_count": 29,
   "metadata": {
    "colab": {
     "base_uri": "https://localhost:8080/"
    },
    "executionInfo": {
     "elapsed": 1073,
     "status": "ok",
     "timestamp": 1608871482490,
     "user": {
      "displayName": "Deepankar Mullick",
      "photoUrl": "https://lh3.googleusercontent.com/a-/AOh14Ggmz-Nr-0TEMVo13LngNEVm6AGK4c57E-3nMbfK=s64",
      "userId": "02437168663279872146"
     },
     "user_tz": -330
    },
    "id": "dhyNaNlW8Otz",
    "outputId": "38c4228a-5982-44ee-a8fe-98cdf25c3b5a"
   },
   "outputs": [
    {
     "data": {
      "text/plain": [
       "[<tensorflow.python.keras.layers.convolutional.Conv2D at 0x7f6d237e9ba8>,\n",
       " <tensorflow.python.keras.layers.pooling.MaxPooling2D at 0x7f6d1dfb5d68>,\n",
       " <tensorflow.python.keras.layers.convolutional.Conv2D at 0x7f6d1ccd5dd8>,\n",
       " <tensorflow.python.keras.layers.pooling.MaxPooling2D at 0x7f6d1ccd8160>,\n",
       " <tensorflow.python.keras.layers.core.Flatten at 0x7f6d1ccb64a8>,\n",
       " <tensorflow.python.keras.layers.core.Dense at 0x7f6d1ccb6518>,\n",
       " <tensorflow.python.keras.layers.core.Dense at 0x7f6d1ccb6668>]"
      ]
     },
     "execution_count": 29,
     "metadata": {
      "tags": []
     },
     "output_type": "execute_result"
    }
   ],
   "source": [
    "cnn.layers"
   ]
  },
  {
   "cell_type": "code",
   "execution_count": 30,
   "metadata": {
    "executionInfo": {
     "elapsed": 1136,
     "status": "ok",
     "timestamp": 1608871484286,
     "user": {
      "displayName": "Deepankar Mullick",
      "photoUrl": "https://lh3.googleusercontent.com/a-/AOh14Ggmz-Nr-0TEMVo13LngNEVm6AGK4c57E-3nMbfK=s64",
      "userId": "02437168663279872146"
     },
     "user_tz": -330
    },
    "id": "orcCwcdl8Ot0"
   },
   "outputs": [],
   "source": [
    "layer1 = cnn.layers[1]"
   ]
  },
  {
   "cell_type": "code",
   "execution_count": 31,
   "metadata": {
    "colab": {
     "base_uri": "https://localhost:8080/"
    },
    "executionInfo": {
     "elapsed": 745,
     "status": "ok",
     "timestamp": 1608871484803,
     "user": {
      "displayName": "Deepankar Mullick",
      "photoUrl": "https://lh3.googleusercontent.com/a-/AOh14Ggmz-Nr-0TEMVo13LngNEVm6AGK4c57E-3nMbfK=s64",
      "userId": "02437168663279872146"
     },
     "user_tz": -330
    },
    "id": "GQ_3W7g28Ot0",
    "outputId": "350ea4ef-4e18-4102-e7d8-30aacd8d8405"
   },
   "outputs": [
    {
     "data": {
      "text/plain": [
       "[]"
      ]
     },
     "execution_count": 31,
     "metadata": {
      "tags": []
     },
     "output_type": "execute_result"
    }
   ],
   "source": [
    "layer1.get_weights()"
   ]
  },
  {
   "cell_type": "code",
   "execution_count": 32,
   "metadata": {
    "executionInfo": {
     "elapsed": 757,
     "status": "ok",
     "timestamp": 1608871485502,
     "user": {
      "displayName": "Deepankar Mullick",
      "photoUrl": "https://lh3.googleusercontent.com/a-/AOh14Ggmz-Nr-0TEMVo13LngNEVm6AGK4c57E-3nMbfK=s64",
      "userId": "02437168663279872146"
     },
     "user_tz": -330
    },
    "id": "g9SiO0Kj8Ot1"
   },
   "outputs": [],
   "source": [
    "# Model Checkpointing for saving model every epochs\n",
    "\n",
    "filepath_chpt = os.path.join(os.getcwd(), 'tmp', 'chpt-{epoch:02d}-{val_accuracy:.5f}.hdf5')\n",
    "\n",
    "model_checkpoint_callback = tf.keras.callbacks.ModelCheckpoint(\n",
    "                                  filepath=filepath_chpt,\n",
    "                                   monitor='val_loss',\n",
    "                                   verbose=0,\n",
    "                                   save_freq='epoch',\n",
    "                                   save_best_only=False,\n",
    "                                   save_weights_only=False,\n",
    "                                   mode='auto')"
   ]
  },
  {
   "cell_type": "code",
   "execution_count": null,
   "metadata": {
    "id": "XEHGRUpQk8mc"
   },
   "outputs": [],
   "source": [
    "# Part 3 - Training the CNN --10.18 am\n",
    "\n",
    "# Compiling the CNN\n",
    "\n",
    "# LOSS_FUNCTION = \"sparse_categorical_crossentropy\"     # or use => tf.losses.sparse_categorical_crossentropy\n",
    "# OPTIMIZER = \"SGD\"               # or use with custom learning rate=> tf.keras.optimizers.SGD(0.02)\n",
    "# METRICS = [\"accuracy\"]\n",
    "\n",
    "cnn.compile(optimizer = 'adam',\n",
    "            loss = 'binary_crossentropy',\n",
    "            metrics = ['accuracy'])"
   ]
  },
  {
   "cell_type": "code",
   "execution_count": 33,
   "metadata": {
    "colab": {
     "base_uri": "https://localhost:8080/"
    },
    "executionInfo": {
     "elapsed": 6323217,
     "status": "ok",
     "timestamp": 1608877853111,
     "user": {
      "displayName": "Deepankar Mullick",
      "photoUrl": "https://lh3.googleusercontent.com/a-/AOh14Ggmz-Nr-0TEMVo13LngNEVm6AGK4c57E-3nMbfK=s64",
      "userId": "02437168663279872146"
     },
     "user_tz": -330
    },
    "id": "t_GHcszP8Ot2",
    "outputId": "f5f2741c-976b-466b-fc61-e050b66cefec"
   },
   "outputs": [
    {
     "name": "stdout",
     "output_type": "stream",
     "text": [
      "Epoch 1/4\n",
      "313/313 [==============================] - 4310s 14s/step - loss: 0.8105 - accuracy: 0.5805 - val_loss: 0.5540 - val_accuracy: 0.7228\n",
      "Epoch 2/4\n",
      "313/313 [==============================] - 664s 2s/step - loss: 0.5682 - accuracy: 0.7054 - val_loss: 0.5323 - val_accuracy: 0.7288\n",
      "Epoch 3/4\n",
      "313/313 [==============================] - 668s 2s/step - loss: 0.5287 - accuracy: 0.7360 - val_loss: 0.4986 - val_accuracy: 0.7582\n",
      "Epoch 4/4\n",
      "313/313 [==============================] - 670s 2s/step - loss: 0.4853 - accuracy: 0.7660 - val_loss: 0.4768 - val_accuracy: 0.7734\n"
     ]
    },
    {
     "data": {
      "text/plain": [
       "<tensorflow.python.keras.callbacks.History at 0x7f6d1ccb6f28>"
      ]
     },
     "execution_count": 33,
     "metadata": {
      "tags": []
     },
     "output_type": "execute_result"
    }
   ],
   "source": [
    "# Training the CNN on the Training set and evaluating it on the Test set\n",
    "cnn.fit(x = train_generator,\n",
    "        epochs = 4,\n",
    "        batch_size = 64,\n",
    "        validation_data= validation_generator,\n",
    "        callbacks=[model_checkpoint_callback])"
   ]
  },
  {
   "cell_type": "code",
   "execution_count": 35,
   "metadata": {
    "executionInfo": {
     "elapsed": 1422,
     "status": "ok",
     "timestamp": 1608878626794,
     "user": {
      "displayName": "Deepankar Mullick",
      "photoUrl": "https://lh3.googleusercontent.com/a-/AOh14Ggmz-Nr-0TEMVo13LngNEVm6AGK4c57E-3nMbfK=s64",
      "userId": "02437168663279872146"
     },
     "user_tz": -330
    },
    "id": "su9CseLj8Ot_"
   },
   "outputs": [],
   "source": [
    "# Assigning variable to the history returned by fit function.\n",
    "history = _"
   ]
  },
  {
   "cell_type": "code",
   "execution_count": 36,
   "metadata": {
    "colab": {
     "base_uri": "https://localhost:8080/"
    },
    "executionInfo": {
     "elapsed": 1728,
     "status": "ok",
     "timestamp": 1608878630726,
     "user": {
      "displayName": "Deepankar Mullick",
      "photoUrl": "https://lh3.googleusercontent.com/a-/AOh14Ggmz-Nr-0TEMVo13LngNEVm6AGK4c57E-3nMbfK=s64",
      "userId": "02437168663279872146"
     },
     "user_tz": -330
    },
    "id": "G_v96aJq8OuA",
    "outputId": "42634e69-fea0-4e47-95db-b6b753470fa5"
   },
   "outputs": [
    {
     "data": {
      "text/plain": [
       "{'epochs': 4, 'steps': 313, 'verbose': 1}"
      ]
     },
     "execution_count": 36,
     "metadata": {
      "tags": []
     },
     "output_type": "execute_result"
    }
   ],
   "source": [
    "history.params"
   ]
  },
  {
   "cell_type": "code",
   "execution_count": 72,
   "metadata": {
    "colab": {
     "base_uri": "https://localhost:8080/",
     "height": 166
    },
    "executionInfo": {
     "elapsed": 1423,
     "status": "ok",
     "timestamp": 1608901546322,
     "user": {
      "displayName": "Deepankar Mullick",
      "photoUrl": "https://lh3.googleusercontent.com/a-/AOh14Ggmz-Nr-0TEMVo13LngNEVm6AGK4c57E-3nMbfK=s64",
      "userId": "02437168663279872146"
     },
     "user_tz": -330
    },
    "id": "aBtJYJRn8OuA",
    "outputId": "81d3483f-feaf-4445-81a3-3709caa21ca3"
   },
   "outputs": [
    {
     "data": {
      "text/html": [
       "<div>\n",
       "<style scoped>\n",
       "    .dataframe tbody tr th:only-of-type {\n",
       "        vertical-align: middle;\n",
       "    }\n",
       "\n",
       "    .dataframe tbody tr th {\n",
       "        vertical-align: top;\n",
       "    }\n",
       "\n",
       "    .dataframe thead th {\n",
       "        text-align: right;\n",
       "    }\n",
       "</style>\n",
       "<table border=\"1\" class=\"dataframe\">\n",
       "  <thead>\n",
       "    <tr style=\"text-align: right;\">\n",
       "      <th></th>\n",
       "      <th>loss</th>\n",
       "      <th>accuracy</th>\n",
       "      <th>val_loss</th>\n",
       "      <th>val_accuracy</th>\n",
       "    </tr>\n",
       "  </thead>\n",
       "  <tbody>\n",
       "    <tr>\n",
       "      <th>0</th>\n",
       "      <td>0.659772</td>\n",
       "      <td>0.633168</td>\n",
       "      <td>0.553994</td>\n",
       "      <td>0.7228</td>\n",
       "    </tr>\n",
       "    <tr>\n",
       "      <th>1</th>\n",
       "      <td>0.556409</td>\n",
       "      <td>0.712814</td>\n",
       "      <td>0.532322</td>\n",
       "      <td>0.7288</td>\n",
       "    </tr>\n",
       "    <tr>\n",
       "      <th>2</th>\n",
       "      <td>0.513469</td>\n",
       "      <td>0.748163</td>\n",
       "      <td>0.498645</td>\n",
       "      <td>0.7582</td>\n",
       "    </tr>\n",
       "    <tr>\n",
       "      <th>3</th>\n",
       "      <td>0.484697</td>\n",
       "      <td>0.765062</td>\n",
       "      <td>0.476762</td>\n",
       "      <td>0.7734</td>\n",
       "    </tr>\n",
       "  </tbody>\n",
       "</table>\n",
       "</div>"
      ],
      "text/plain": [
       "       loss  accuracy  val_loss  val_accuracy\n",
       "0  0.659772  0.633168  0.553994        0.7228\n",
       "1  0.556409  0.712814  0.532322        0.7288\n",
       "2  0.513469  0.748163  0.498645        0.7582\n",
       "3  0.484697  0.765062  0.476762        0.7734"
      ]
     },
     "execution_count": 72,
     "metadata": {
      "tags": []
     },
     "output_type": "execute_result"
    }
   ],
   "source": [
    "chart = pd.DataFrame(history.history)\n",
    "chart"
   ]
  },
  {
   "cell_type": "code",
   "execution_count": 41,
   "metadata": {
    "colab": {
     "base_uri": "https://localhost:8080/",
     "height": 324
    },
    "executionInfo": {
     "elapsed": 2729,
     "status": "ok",
     "timestamp": 1608878706905,
     "user": {
      "displayName": "Deepankar Mullick",
      "photoUrl": "https://lh3.googleusercontent.com/a-/AOh14Ggmz-Nr-0TEMVo13LngNEVm6AGK4c57E-3nMbfK=s64",
      "userId": "02437168663279872146"
     },
     "user_tz": -330
    },
    "id": "V1x2O5f68OuB",
    "outputId": "fdec7725-63c3-48ec-cf03-b0f94c2540ca"
   },
   "outputs": [
    {
     "data": {
      "image/png": "[encoded data removed]",
      "text/plain": [
       "<Figure size 576x360 with 1 Axes>"
      ]
     },
     "metadata": {
      "needs_background": "light",
      "tags": []
     },
     "output_type": "display_data"
    }
   ],
   "source": [
    "# Plotting performance improvement per epoch\n",
    "\n",
    "pd.DataFrame(chart).plot(figsize=(8, 5))    # Width, Height\n",
    "plt.grid(True)\n",
    "plt.gca().set_ylim(0, 1)\n",
    "plt.show()"
   ]
  },
  {
   "cell_type": "markdown",
   "metadata": {
    "id": "IFLrH4fOd2AY"
   },
   "source": [
    "# Saving & Loading model:"
   ]
  },
  {
   "cell_type": "code",
   "execution_count": 61,
   "metadata": {
    "executionInfo": {
     "elapsed": 1620,
     "status": "ok",
     "timestamp": 1608886570110,
     "user": {
      "displayName": "Deepankar Mullick",
      "photoUrl": "https://lh3.googleusercontent.com/a-/AOh14Ggmz-Nr-0TEMVo13LngNEVm6AGK4c57E-3nMbfK=s64",
      "userId": "02437168663279872146"
     },
     "user_tz": -330
    },
    "id": "-zYE_J0j8OuI"
   },
   "outputs": [],
   "source": [
    "os.makedirs(os.path.join(os.getcwd(), 'saved_models'), exist_ok=True)\n",
    "cnn.save('saved_models/1_cnn15epochs.h5')"
   ]
  },
  {
   "cell_type": "code",
   "execution_count": 42,
   "metadata": {
    "executionInfo": {
     "elapsed": 2608,
     "status": "ok",
     "timestamp": 1608878733583,
     "user": {
      "displayName": "Deepankar Mullick",
      "photoUrl": "https://lh3.googleusercontent.com/a-/AOh14Ggmz-Nr-0TEMVo13LngNEVm6AGK4c57E-3nMbfK=s64",
      "userId": "02437168663279872146"
     },
     "user_tz": -330
    },
    "id": "fp0Q3RW68Ouv"
   },
   "outputs": [],
   "source": [
    "# Deletes the model data\n",
    "del cnn"
   ]
  },
  {
   "cell_type": "code",
   "execution_count": 43,
   "metadata": {
    "colab": {
     "base_uri": "https://localhost:8080/",
     "height": 162
    },
    "executionInfo": {
     "elapsed": 2003,
     "status": "error",
     "timestamp": 1608878733586,
     "user": {
      "displayName": "Deepankar Mullick",
      "photoUrl": "https://lh3.googleusercontent.com/a-/AOh14Ggmz-Nr-0TEMVo13LngNEVm6AGK4c57E-3nMbfK=s64",
      "userId": "02437168663279872146"
     },
     "user_tz": -330
    },
    "id": "F6k8ltQ28Ouv",
    "outputId": "1d28b997-f51c-456c-df53-37176f06c362"
   },
   "outputs": [
    {
     "ename": "NameError",
     "evalue": "ignored",
     "output_type": "error",
     "traceback": [
      "\u001b[0;31m---------------------------------------------------------------------------\u001b[0m",
      "\u001b[0;31mNameError\u001b[0m                                 Traceback (most recent call last)",
      "\u001b[0;32m<ipython-input-43-8252637e63c3>\u001b[0m in \u001b[0;36m<module>\u001b[0;34m()\u001b[0m\n\u001b[0;32m----> 1\u001b[0;31m \u001b[0mcnn\u001b[0m\u001b[0;34m\u001b[0m\u001b[0;34m\u001b[0m\u001b[0m\n\u001b[0m",
      "\u001b[0;31mNameError\u001b[0m: name 'cnn' is not defined"
     ]
    }
   ],
   "source": [
    "cnn"
   ]
  },
  {
   "cell_type": "code",
   "execution_count": 44,
   "metadata": {
    "executionInfo": {
     "elapsed": 5589,
     "status": "ok",
     "timestamp": 1608878738017,
     "user": {
      "displayName": "Deepankar Mullick",
      "photoUrl": "https://lh3.googleusercontent.com/a-/AOh14Ggmz-Nr-0TEMVo13LngNEVm6AGK4c57E-3nMbfK=s64",
      "userId": "02437168663279872146"
     },
     "user_tz": -330
    },
    "id": "bGSYn_9z8Ouw"
   },
   "outputs": [],
   "source": [
    "cnn = tf.keras.models.load_model('saved_models/1_cnn15epochs.h5')"
   ]
  },
  {
   "cell_type": "code",
   "execution_count": 45,
   "metadata": {
    "colab": {
     "base_uri": "https://localhost:8080/"
    },
    "executionInfo": {
     "elapsed": 1771,
     "status": "ok",
     "timestamp": 1608878740877,
     "user": {
      "displayName": "Deepankar Mullick",
      "photoUrl": "https://lh3.googleusercontent.com/a-/AOh14Ggmz-Nr-0TEMVo13LngNEVm6AGK4c57E-3nMbfK=s64",
      "userId": "02437168663279872146"
     },
     "user_tz": -330
    },
    "id": "dxiy_t5T8Ouw",
    "outputId": "c991e485-3fb5-4d7b-8a34-4a59f399072b"
   },
   "outputs": [
    {
     "name": "stdout",
     "output_type": "stream",
     "text": [
      "Model: \"sequential_1\"\n",
      "_________________________________________________________________\n",
      "Layer (type)                 Output Shape              Param #   \n",
      "=================================================================\n",
      "conv2d_2 (Conv2D)            (None, 150, 150, 32)      896       \n",
      "_________________________________________________________________\n",
      "max_pooling2d_2 (MaxPooling2 (None, 75, 75, 32)        0         \n",
      "_________________________________________________________________\n",
      "conv2d_3 (Conv2D)            (None, 75, 75, 32)        9248      \n",
      "_________________________________________________________________\n",
      "max_pooling2d_3 (MaxPooling2 (None, 37, 37, 32)        0         \n",
      "_________________________________________________________________\n",
      "flatten_1 (Flatten)          (None, 43808)             0         \n",
      "_________________________________________________________________\n",
      "dense_2 (Dense)              (None, 256)               11215104  \n",
      "_________________________________________________________________\n",
      "dense_3 (Dense)              (None, 1)                 257       \n",
      "=================================================================\n",
      "Total params: 11,225,505\n",
      "Trainable params: 11,225,505\n",
      "Non-trainable params: 0\n",
      "_________________________________________________________________\n"
     ]
    }
   ],
   "source": [
    "cnn.summary()"
   ]
  },
  {
   "cell_type": "code",
   "execution_count": null,
   "metadata": {},
   "outputs": [],
   "source": []
  },
  {
   "cell_type": "code",
   "execution_count": null,
   "metadata": {},
   "outputs": [],
   "source": []
  },
  {
   "cell_type": "code",
   "execution_count": null,
   "metadata": {
    "id": "JhCBF0UP8Ouw",
    "outputId": "8c28fcf2-e3de-4a00-e6bd-3c6f7a2a4ee4"
   },
   "outputs": [
    {
     "name": "stdout",
     "output_type": "stream",
     "text": [
      "[[0.99951315]]\n"
     ]
    }
   ],
   "source": [
    "import numpy as np\n",
    "from tensorflow.keras.preprocessing import image\n",
    "test_image = image.load_img('datasets/extracted_data/test/0/95.jpg', target_size = (150, 150))\n",
    "test_image = image.img_to_array(test_image)\n",
    "test_image=test_image/255\n",
    "test_image = np.expand_dims(test_image, axis = 0)\n",
    "result = cnn.predict(test_image)\n",
    "print(result)"
   ]
  },
  {
   "cell_type": "code",
   "execution_count": null,
   "metadata": {
    "id": "2Vub4pmI8Ou6",
    "outputId": "519f8717-e042-48bc-a427-371bf661e3ce"
   },
   "outputs": [
    {
     "name": "stdout",
     "output_type": "stream",
     "text": [
      "Dog\n"
     ]
    }
   ],
   "source": [
    "if result >= 0.5:\n",
    "    print('Dog')\n",
    "else:\n",
    "    print('Cat')"
   ]
  },
  {
   "cell_type": "code",
   "execution_count": null,
   "metadata": {
    "id": "YvB8XNoe8Ou7"
   },
   "outputs": [],
   "source": []
  },
  {
   "cell_type": "markdown",
   "metadata": {
    "id": "Z7nspoev8Ou7"
   },
   "source": [
    "# Continue model training from saved model:"
   ]
  },
  {
   "cell_type": "code",
   "execution_count": 46,
   "metadata": {
    "colab": {
     "base_uri": "https://localhost:8080/"
    },
    "executionInfo": {
     "elapsed": 3289004,
     "status": "ok",
     "timestamp": 1608885725768,
     "user": {
      "displayName": "Deepankar Mullick",
      "photoUrl": "https://lh3.googleusercontent.com/a-/AOh14Ggmz-Nr-0TEMVo13LngNEVm6AGK4c57E-3nMbfK=s64",
      "userId": "02437168663279872146"
     },
     "user_tz": -330
    },
    "id": "DLtHCGGa8Ou8",
    "outputId": "6b5ed0df-6d92-48b0-96ef-a1d594f69228"
   },
   "outputs": [
    {
     "name": "stdout",
     "output_type": "stream",
     "text": [
      "Epoch 1/5\n",
      "313/313 [==============================] - 658s 2s/step - loss: 0.4725 - accuracy: 0.7719 - val_loss: 0.4700 - val_accuracy: 0.7708\n",
      "Epoch 2/5\n",
      "313/313 [==============================] - 658s 2s/step - loss: 0.4485 - accuracy: 0.7885 - val_loss: 0.4457 - val_accuracy: 0.8028\n",
      "Epoch 3/5\n",
      "313/313 [==============================] - 656s 2s/step - loss: 0.4357 - accuracy: 0.7966 - val_loss: 0.4454 - val_accuracy: 0.7992\n",
      "Epoch 4/5\n",
      "313/313 [==============================] - 656s 2s/step - loss: 0.4170 - accuracy: 0.8072 - val_loss: 0.4143 - val_accuracy: 0.8052\n",
      "Epoch 5/5\n",
      "313/313 [==============================] - 658s 2s/step - loss: 0.4070 - accuracy: 0.8126 - val_loss: 0.4363 - val_accuracy: 0.7932\n"
     ]
    },
    {
     "data": {
      "text/plain": [
       "<tensorflow.python.keras.callbacks.History at 0x7f6d1c8a5518>"
      ]
     },
     "execution_count": 46,
     "metadata": {
      "tags": []
     },
     "output_type": "execute_result"
    }
   ],
   "source": [
    "# Training the CNN for more epochs and using the already learned data\n",
    "cnn.fit(x = train_generator, epochs = 5, validation_data= validation_generator)"
   ]
  },
  {
   "cell_type": "code",
   "execution_count": 47,
   "metadata": {
    "executionInfo": {
     "elapsed": 1914,
     "status": "ok",
     "timestamp": 1608885963588,
     "user": {
      "displayName": "Deepankar Mullick",
      "photoUrl": "https://lh3.googleusercontent.com/a-/AOh14Ggmz-Nr-0TEMVo13LngNEVm6AGK4c57E-3nMbfK=s64",
      "userId": "02437168663279872146"
     },
     "user_tz": -330
    },
    "id": "q_CrZwgj3bn1"
   },
   "outputs": [],
   "source": [
    "cnn.save('saved_models/CNN_epochs_9_val_acc_7980.h5')"
   ]
  },
  {
   "cell_type": "code",
   "execution_count": 48,
   "metadata": {
    "executionInfo": {
     "elapsed": 2319,
     "status": "ok",
     "timestamp": 1608886076837,
     "user": {
      "displayName": "Deepankar Mullick",
      "photoUrl": "https://lh3.googleusercontent.com/a-/AOh14Ggmz-Nr-0TEMVo13LngNEVm6AGK4c57E-3nMbfK=s64",
      "userId": "02437168663279872146"
     },
     "user_tz": -330
    },
    "id": "srv6_io9E4ND"
   },
   "outputs": [],
   "source": [
    "history1=_"
   ]
  },
  {
   "cell_type": "code",
   "execution_count": 73,
   "metadata": {
    "colab": {
     "base_uri": "https://localhost:8080/",
     "height": 195
    },
    "executionInfo": {
     "elapsed": 1145,
     "status": "ok",
     "timestamp": 1608901562091,
     "user": {
      "displayName": "Deepankar Mullick",
      "photoUrl": "https://lh3.googleusercontent.com/a-/AOh14Ggmz-Nr-0TEMVo13LngNEVm6AGK4c57E-3nMbfK=s64",
      "userId": "02437168663279872146"
     },
     "user_tz": -330
    },
    "id": "z4wmZlofFTwt",
    "outputId": "89bf7a4f-cafb-4900-daf1-2988175882ed"
   },
   "outputs": [
    {
     "data": {
      "text/html": [
       "<div>\n",
       "<style scoped>\n",
       "    .dataframe tbody tr th:only-of-type {\n",
       "        vertical-align: middle;\n",
       "    }\n",
       "\n",
       "    .dataframe tbody tr th {\n",
       "        vertical-align: top;\n",
       "    }\n",
       "\n",
       "    .dataframe thead th {\n",
       "        text-align: right;\n",
       "    }\n",
       "</style>\n",
       "<table border=\"1\" class=\"dataframe\">\n",
       "  <thead>\n",
       "    <tr style=\"text-align: right;\">\n",
       "      <th></th>\n",
       "      <th>loss</th>\n",
       "      <th>accuracy</th>\n",
       "      <th>val_loss</th>\n",
       "      <th>val_accuracy</th>\n",
       "    </tr>\n",
       "  </thead>\n",
       "  <tbody>\n",
       "    <tr>\n",
       "      <th>0</th>\n",
       "      <td>0.472511</td>\n",
       "      <td>0.771911</td>\n",
       "      <td>0.470020</td>\n",
       "      <td>0.7708</td>\n",
       "    </tr>\n",
       "    <tr>\n",
       "      <th>1</th>\n",
       "      <td>0.448501</td>\n",
       "      <td>0.788511</td>\n",
       "      <td>0.445666</td>\n",
       "      <td>0.8028</td>\n",
       "    </tr>\n",
       "    <tr>\n",
       "      <th>2</th>\n",
       "      <td>0.435729</td>\n",
       "      <td>0.796610</td>\n",
       "      <td>0.445401</td>\n",
       "      <td>0.7992</td>\n",
       "    </tr>\n",
       "    <tr>\n",
       "      <th>3</th>\n",
       "      <td>0.417044</td>\n",
       "      <td>0.807210</td>\n",
       "      <td>0.414341</td>\n",
       "      <td>0.8052</td>\n",
       "    </tr>\n",
       "    <tr>\n",
       "      <th>4</th>\n",
       "      <td>0.406995</td>\n",
       "      <td>0.812609</td>\n",
       "      <td>0.436279</td>\n",
       "      <td>0.7932</td>\n",
       "    </tr>\n",
       "  </tbody>\n",
       "</table>\n",
       "</div>"
      ],
      "text/plain": [
       "       loss  accuracy  val_loss  val_accuracy\n",
       "0  0.472511  0.771911  0.470020        0.7708\n",
       "1  0.448501  0.788511  0.445666        0.8028\n",
       "2  0.435729  0.796610  0.445401        0.7992\n",
       "3  0.417044  0.807210  0.414341        0.8052\n",
       "4  0.406995  0.812609  0.436279        0.7932"
      ]
     },
     "execution_count": 73,
     "metadata": {
      "tags": []
     },
     "output_type": "execute_result"
    }
   ],
   "source": [
    "chart_new = pd.DataFrame(history1.history)\n",
    "chart_new"
   ]
  },
  {
   "cell_type": "code",
   "execution_count": 74,
   "metadata": {
    "colab": {
     "base_uri": "https://localhost:8080/",
     "height": 314
    },
    "executionInfo": {
     "elapsed": 1146,
     "status": "ok",
     "timestamp": 1608901572612,
     "user": {
      "displayName": "Deepankar Mullick",
      "photoUrl": "https://lh3.googleusercontent.com/a-/AOh14Ggmz-Nr-0TEMVo13LngNEVm6AGK4c57E-3nMbfK=s64",
      "userId": "02437168663279872146"
     },
     "user_tz": -330
    },
    "id": "_bRuqXCYFWO0",
    "outputId": "07f831fb-f777-473a-a1df-e8b52b846248"
   },
   "outputs": [
    {
     "data": {
      "text/html": [
       "<div>\n",
       "<style scoped>\n",
       "    .dataframe tbody tr th:only-of-type {\n",
       "        vertical-align: middle;\n",
       "    }\n",
       "\n",
       "    .dataframe tbody tr th {\n",
       "        vertical-align: top;\n",
       "    }\n",
       "\n",
       "    .dataframe thead th {\n",
       "        text-align: right;\n",
       "    }\n",
       "</style>\n",
       "<table border=\"1\" class=\"dataframe\">\n",
       "  <thead>\n",
       "    <tr style=\"text-align: right;\">\n",
       "      <th></th>\n",
       "      <th>loss</th>\n",
       "      <th>accuracy</th>\n",
       "      <th>val_loss</th>\n",
       "      <th>val_accuracy</th>\n",
       "    </tr>\n",
       "  </thead>\n",
       "  <tbody>\n",
       "    <tr>\n",
       "      <th>0</th>\n",
       "      <td>0.659772</td>\n",
       "      <td>0.633168</td>\n",
       "      <td>0.553994</td>\n",
       "      <td>0.7228</td>\n",
       "    </tr>\n",
       "    <tr>\n",
       "      <th>1</th>\n",
       "      <td>0.556409</td>\n",
       "      <td>0.712814</td>\n",
       "      <td>0.532322</td>\n",
       "      <td>0.7288</td>\n",
       "    </tr>\n",
       "    <tr>\n",
       "      <th>2</th>\n",
       "      <td>0.513469</td>\n",
       "      <td>0.748163</td>\n",
       "      <td>0.498645</td>\n",
       "      <td>0.7582</td>\n",
       "    </tr>\n",
       "    <tr>\n",
       "      <th>3</th>\n",
       "      <td>0.484697</td>\n",
       "      <td>0.765062</td>\n",
       "      <td>0.476762</td>\n",
       "      <td>0.7734</td>\n",
       "    </tr>\n",
       "    <tr>\n",
       "      <th>4</th>\n",
       "      <td>0.472511</td>\n",
       "      <td>0.771911</td>\n",
       "      <td>0.470020</td>\n",
       "      <td>0.7708</td>\n",
       "    </tr>\n",
       "    <tr>\n",
       "      <th>5</th>\n",
       "      <td>0.448501</td>\n",
       "      <td>0.788511</td>\n",
       "      <td>0.445666</td>\n",
       "      <td>0.8028</td>\n",
       "    </tr>\n",
       "    <tr>\n",
       "      <th>6</th>\n",
       "      <td>0.435729</td>\n",
       "      <td>0.796610</td>\n",
       "      <td>0.445401</td>\n",
       "      <td>0.7992</td>\n",
       "    </tr>\n",
       "    <tr>\n",
       "      <th>7</th>\n",
       "      <td>0.417044</td>\n",
       "      <td>0.807210</td>\n",
       "      <td>0.414341</td>\n",
       "      <td>0.8052</td>\n",
       "    </tr>\n",
       "    <tr>\n",
       "      <th>8</th>\n",
       "      <td>0.406995</td>\n",
       "      <td>0.812609</td>\n",
       "      <td>0.436279</td>\n",
       "      <td>0.7932</td>\n",
       "    </tr>\n",
       "  </tbody>\n",
       "</table>\n",
       "</div>"
      ],
      "text/plain": [
       "       loss  accuracy  val_loss  val_accuracy\n",
       "0  0.659772  0.633168  0.553994        0.7228\n",
       "1  0.556409  0.712814  0.532322        0.7288\n",
       "2  0.513469  0.748163  0.498645        0.7582\n",
       "3  0.484697  0.765062  0.476762        0.7734\n",
       "4  0.472511  0.771911  0.470020        0.7708\n",
       "5  0.448501  0.788511  0.445666        0.8028\n",
       "6  0.435729  0.796610  0.445401        0.7992\n",
       "7  0.417044  0.807210  0.414341        0.8052\n",
       "8  0.406995  0.812609  0.436279        0.7932"
      ]
     },
     "execution_count": 74,
     "metadata": {
      "tags": []
     },
     "output_type": "execute_result"
    }
   ],
   "source": [
    "chart = chart.append(chart_new, ignore_index=True)\n",
    "chart"
   ]
  },
  {
   "cell_type": "code",
   "execution_count": 75,
   "metadata": {
    "colab": {
     "base_uri": "https://localhost:8080/",
     "height": 324
    },
    "executionInfo": {
     "elapsed": 1247,
     "status": "ok",
     "timestamp": 1608901595504,
     "user": {
      "displayName": "Deepankar Mullick",
      "photoUrl": "https://lh3.googleusercontent.com/a-/AOh14Ggmz-Nr-0TEMVo13LngNEVm6AGK4c57E-3nMbfK=s64",
      "userId": "02437168663279872146"
     },
     "user_tz": -330
    },
    "id": "7eMO_k3vFY88",
    "outputId": "5ab13bca-664c-47bc-a7af-618f516bcb5a"
   },
   "outputs": [
    {
     "data": {
      "image/png": "[encoded data removed]",
      "text/plain": [
       "<Figure size 576x360 with 1 Axes>"
      ]
     },
     "metadata": {
      "needs_background": "light",
      "tags": []
     },
     "output_type": "display_data"
    }
   ],
   "source": [
    "pd.DataFrame(chart).plot(figsize=(8, 5))    # Width, Height\n",
    "plt.grid(True)\n",
    "plt.gca().set_ylim(0, 1)\n",
    "plt.show()"
   ]
  },
  {
   "cell_type": "code",
   "execution_count": null,
   "metadata": {
    "id": "9CX3HohjGG3T"
   },
   "outputs": [],
   "source": []
  },
  {
   "cell_type": "code",
   "execution_count": null,
   "metadata": {
    "id": "3HzBKy1jSLtO"
   },
   "outputs": [],
   "source": []
  },
  {
   "cell_type": "code",
   "execution_count": 63,
   "metadata": {
    "colab": {
     "base_uri": "https://localhost:8080/"
    },
    "executionInfo": {
     "elapsed": 3964612,
     "status": "ok",
     "timestamp": 1608893653673,
     "user": {
      "displayName": "Deepankar Mullick",
      "photoUrl": "https://lh3.googleusercontent.com/a-/AOh14Ggmz-Nr-0TEMVo13LngNEVm6AGK4c57E-3nMbfK=s64",
      "userId": "02437168663279872146"
     },
     "user_tz": -330
    },
    "id": "dsynJIX9SLwN",
    "outputId": "90f783c7-a7fd-4e2f-9996-30e9a7752611"
   },
   "outputs": [
    {
     "name": "stdout",
     "output_type": "stream",
     "text": [
      "Epoch 1/6\n",
      "313/313 [==============================] - 658s 2s/step - loss: 0.3938 - accuracy: 0.8224 - val_loss: 0.4076 - val_accuracy: 0.8136\n",
      "Epoch 2/6\n",
      "313/313 [==============================] - 661s 2s/step - loss: 0.3859 - accuracy: 0.8238 - val_loss: 0.4316 - val_accuracy: 0.7936\n",
      "Epoch 3/6\n",
      "313/313 [==============================] - 659s 2s/step - loss: 0.3758 - accuracy: 0.8304 - val_loss: 0.3997 - val_accuracy: 0.8222\n",
      "Epoch 4/6\n",
      "313/313 [==============================] - 661s 2s/step - loss: 0.3638 - accuracy: 0.8372 - val_loss: 0.4104 - val_accuracy: 0.8130\n",
      "Epoch 5/6\n",
      "313/313 [==============================] - 660s 2s/step - loss: 0.3523 - accuracy: 0.8453 - val_loss: 0.3953 - val_accuracy: 0.8234\n",
      "Epoch 6/6\n",
      "313/313 [==============================] - 659s 2s/step - loss: 0.3445 - accuracy: 0.8514 - val_loss: 0.3995 - val_accuracy: 0.8274\n"
     ]
    },
    {
     "data": {
      "text/plain": [
       "<tensorflow.python.keras.callbacks.History at 0x7f6d1513ae48>"
      ]
     },
     "execution_count": 63,
     "metadata": {
      "tags": []
     },
     "output_type": "execute_result"
    }
   ],
   "source": [
    "# Another Iteration of 6 epochs -- total 15\n",
    "cnn = tf.keras.models.load_model('saved_models/CNN_epochs_9_val_acc_7932.h5')\n",
    "\n",
    "cnn.fit(x = train_generator,\n",
    "        epochs = 6,\n",
    "        batch_size = 64,\n",
    "        validation_data= validation_generator,\n",
    "        callbacks=[model_checkpoint_callback])"
   ]
  },
  {
   "cell_type": "code",
   "execution_count": 64,
   "metadata": {
    "executionInfo": {
     "elapsed": 1200,
     "status": "ok",
     "timestamp": 1608896072747,
     "user": {
      "displayName": "Deepankar Mullick",
      "photoUrl": "https://lh3.googleusercontent.com/a-/AOh14Ggmz-Nr-0TEMVo13LngNEVm6AGK4c57E-3nMbfK=s64",
      "userId": "02437168663279872146"
     },
     "user_tz": -330
    },
    "id": "6vlm9KCpTCmr"
   },
   "outputs": [],
   "source": [
    "history2 = _"
   ]
  },
  {
   "cell_type": "code",
   "execution_count": 76,
   "metadata": {
    "colab": {
     "base_uri": "https://localhost:8080/",
     "height": 491
    },
    "executionInfo": {
     "elapsed": 1030,
     "status": "ok",
     "timestamp": 1608901631625,
     "user": {
      "displayName": "Deepankar Mullick",
      "photoUrl": "https://lh3.googleusercontent.com/a-/AOh14Ggmz-Nr-0TEMVo13LngNEVm6AGK4c57E-3nMbfK=s64",
      "userId": "02437168663279872146"
     },
     "user_tz": -330
    },
    "id": "PJbcX7P6rrad",
    "outputId": "c496bfd3-1146-4fe2-e03c-543cfd342b4c"
   },
   "outputs": [
    {
     "data": {
      "text/html": [
       "<div>\n",
       "<style scoped>\n",
       "    .dataframe tbody tr th:only-of-type {\n",
       "        vertical-align: middle;\n",
       "    }\n",
       "\n",
       "    .dataframe tbody tr th {\n",
       "        vertical-align: top;\n",
       "    }\n",
       "\n",
       "    .dataframe thead th {\n",
       "        text-align: right;\n",
       "    }\n",
       "</style>\n",
       "<table border=\"1\" class=\"dataframe\">\n",
       "  <thead>\n",
       "    <tr style=\"text-align: right;\">\n",
       "      <th></th>\n",
       "      <th>loss</th>\n",
       "      <th>accuracy</th>\n",
       "      <th>val_loss</th>\n",
       "      <th>val_accuracy</th>\n",
       "    </tr>\n",
       "  </thead>\n",
       "  <tbody>\n",
       "    <tr>\n",
       "      <th>0</th>\n",
       "      <td>0.659772</td>\n",
       "      <td>0.633168</td>\n",
       "      <td>0.553994</td>\n",
       "      <td>0.7228</td>\n",
       "    </tr>\n",
       "    <tr>\n",
       "      <th>1</th>\n",
       "      <td>0.556409</td>\n",
       "      <td>0.712814</td>\n",
       "      <td>0.532322</td>\n",
       "      <td>0.7288</td>\n",
       "    </tr>\n",
       "    <tr>\n",
       "      <th>2</th>\n",
       "      <td>0.513469</td>\n",
       "      <td>0.748163</td>\n",
       "      <td>0.498645</td>\n",
       "      <td>0.7582</td>\n",
       "    </tr>\n",
       "    <tr>\n",
       "      <th>3</th>\n",
       "      <td>0.484697</td>\n",
       "      <td>0.765062</td>\n",
       "      <td>0.476762</td>\n",
       "      <td>0.7734</td>\n",
       "    </tr>\n",
       "    <tr>\n",
       "      <th>4</th>\n",
       "      <td>0.472511</td>\n",
       "      <td>0.771911</td>\n",
       "      <td>0.470020</td>\n",
       "      <td>0.7708</td>\n",
       "    </tr>\n",
       "    <tr>\n",
       "      <th>5</th>\n",
       "      <td>0.448501</td>\n",
       "      <td>0.788511</td>\n",
       "      <td>0.445666</td>\n",
       "      <td>0.8028</td>\n",
       "    </tr>\n",
       "    <tr>\n",
       "      <th>6</th>\n",
       "      <td>0.435729</td>\n",
       "      <td>0.796610</td>\n",
       "      <td>0.445401</td>\n",
       "      <td>0.7992</td>\n",
       "    </tr>\n",
       "    <tr>\n",
       "      <th>7</th>\n",
       "      <td>0.417044</td>\n",
       "      <td>0.807210</td>\n",
       "      <td>0.414341</td>\n",
       "      <td>0.8052</td>\n",
       "    </tr>\n",
       "    <tr>\n",
       "      <th>8</th>\n",
       "      <td>0.406995</td>\n",
       "      <td>0.812609</td>\n",
       "      <td>0.436279</td>\n",
       "      <td>0.7932</td>\n",
       "    </tr>\n",
       "    <tr>\n",
       "      <th>9</th>\n",
       "      <td>0.393792</td>\n",
       "      <td>0.822359</td>\n",
       "      <td>0.407620</td>\n",
       "      <td>0.8136</td>\n",
       "    </tr>\n",
       "    <tr>\n",
       "      <th>10</th>\n",
       "      <td>0.385927</td>\n",
       "      <td>0.823809</td>\n",
       "      <td>0.431633</td>\n",
       "      <td>0.7936</td>\n",
       "    </tr>\n",
       "    <tr>\n",
       "      <th>11</th>\n",
       "      <td>0.375813</td>\n",
       "      <td>0.830408</td>\n",
       "      <td>0.399727</td>\n",
       "      <td>0.8222</td>\n",
       "    </tr>\n",
       "    <tr>\n",
       "      <th>12</th>\n",
       "      <td>0.363842</td>\n",
       "      <td>0.837158</td>\n",
       "      <td>0.410377</td>\n",
       "      <td>0.8130</td>\n",
       "    </tr>\n",
       "    <tr>\n",
       "      <th>13</th>\n",
       "      <td>0.352271</td>\n",
       "      <td>0.845258</td>\n",
       "      <td>0.395294</td>\n",
       "      <td>0.8234</td>\n",
       "    </tr>\n",
       "    <tr>\n",
       "      <th>14</th>\n",
       "      <td>0.344496</td>\n",
       "      <td>0.851357</td>\n",
       "      <td>0.399472</td>\n",
       "      <td>0.8274</td>\n",
       "    </tr>\n",
       "  </tbody>\n",
       "</table>\n",
       "</div>"
      ],
      "text/plain": [
       "        loss  accuracy  val_loss  val_accuracy\n",
       "0   0.659772  0.633168  0.553994        0.7228\n",
       "1   0.556409  0.712814  0.532322        0.7288\n",
       "2   0.513469  0.748163  0.498645        0.7582\n",
       "3   0.484697  0.765062  0.476762        0.7734\n",
       "4   0.472511  0.771911  0.470020        0.7708\n",
       "5   0.448501  0.788511  0.445666        0.8028\n",
       "6   0.435729  0.796610  0.445401        0.7992\n",
       "7   0.417044  0.807210  0.414341        0.8052\n",
       "8   0.406995  0.812609  0.436279        0.7932\n",
       "9   0.393792  0.822359  0.407620        0.8136\n",
       "10  0.385927  0.823809  0.431633        0.7936\n",
       "11  0.375813  0.830408  0.399727        0.8222\n",
       "12  0.363842  0.837158  0.410377        0.8130\n",
       "13  0.352271  0.845258  0.395294        0.8234\n",
       "14  0.344496  0.851357  0.399472        0.8274"
      ]
     },
     "execution_count": 76,
     "metadata": {
      "tags": []
     },
     "output_type": "execute_result"
    }
   ],
   "source": [
    "chart_new = pd.DataFrame(history2.history)\n",
    "chart = chart.append(chart_new, ignore_index=True)\n",
    "chart"
   ]
  },
  {
   "cell_type": "code",
   "execution_count": 77,
   "metadata": {
    "colab": {
     "base_uri": "https://localhost:8080/",
     "height": 324
    },
    "executionInfo": {
     "elapsed": 1511,
     "status": "ok",
     "timestamp": 1608901647586,
     "user": {
      "displayName": "Deepankar Mullick",
      "photoUrl": "https://lh3.googleusercontent.com/a-/AOh14Ggmz-Nr-0TEMVo13LngNEVm6AGK4c57E-3nMbfK=s64",
      "userId": "02437168663279872146"
     },
     "user_tz": -330
    },
    "id": "-o1v-gdkrcbB",
    "outputId": "585c3627-0bc1-40fb-9158-a187366faa9b"
   },
   "outputs": [
    {
     "data": {
      "image/png": "[encoded data removed]",
      "text/plain": [
       "<Figure size 576x360 with 1 Axes>"
      ]
     },
     "metadata": {
      "needs_background": "light",
      "tags": []
     },
     "output_type": "display_data"
    }
   ],
   "source": [
    "pd.DataFrame(chart).plot(figsize=(8, 5))    # Width, Height\n",
    "plt.grid(True)\n",
    "plt.gca().set_ylim(0, 1)\n",
    "plt.show()"
   ]
  },
  {
   "cell_type": "code",
   "execution_count": 67,
   "metadata": {
    "executionInfo": {
     "elapsed": 1620,
     "status": "ok",
     "timestamp": 1608896229060,
     "user": {
      "displayName": "Deepankar Mullick",
      "photoUrl": "https://lh3.googleusercontent.com/a-/AOh14Ggmz-Nr-0TEMVo13LngNEVm6AGK4c57E-3nMbfK=s64",
      "userId": "02437168663279872146"
     },
     "user_tz": -330
    },
    "id": "C3I3DzmUrjD-"
   },
   "outputs": [],
   "source": [
    "cnn.save('saved_models/CNN_epochs_15_val_acc_8274.h5')"
   ]
  },
  {
   "cell_type": "code",
   "execution_count": 68,
   "metadata": {
    "colab": {
     "base_uri": "https://localhost:8080/"
    },
    "executionInfo": {
     "elapsed": 3426202,
     "status": "ok",
     "timestamp": 1608900298187,
     "user": {
      "displayName": "Deepankar Mullick",
      "photoUrl": "https://lh3.googleusercontent.com/a-/AOh14Ggmz-Nr-0TEMVo13LngNEVm6AGK4c57E-3nMbfK=s64",
      "userId": "02437168663279872146"
     },
     "user_tz": -330
    },
    "id": "M10VskANsCf-",
    "outputId": "bb388b98-e088-47de-f961-47a708a9e857"
   },
   "outputs": [
    {
     "name": "stdout",
     "output_type": "stream",
     "text": [
      "Epoch 1/6\n",
      "313/313 [==============================] - 657s 2s/step - loss: 0.3372 - accuracy: 0.8487 - val_loss: 0.3722 - val_accuracy: 0.8380\n",
      "Epoch 2/6\n",
      "313/313 [==============================] - 659s 2s/step - loss: 0.3321 - accuracy: 0.8550 - val_loss: 0.4308 - val_accuracy: 0.7986\n",
      "Epoch 3/6\n",
      "313/313 [==============================] - 665s 2s/step - loss: 0.3188 - accuracy: 0.8615 - val_loss: 0.3749 - val_accuracy: 0.8380\n",
      "Epoch 4/6\n",
      "313/313 [==============================] - 668s 2s/step - loss: 0.3126 - accuracy: 0.8641 - val_loss: 0.3755 - val_accuracy: 0.8372\n",
      "Epoch 5/6\n",
      "313/313 [==============================] - 678s 2s/step - loss: 0.3106 - accuracy: 0.8662 - val_loss: 0.3916 - val_accuracy: 0.8320\n",
      "Epoch 6/6\n",
      "313/313 [==============================] - 669s 2s/step - loss: 0.3033 - accuracy: 0.8697 - val_loss: 0.3881 - val_accuracy: 0.8270\n"
     ]
    },
    {
     "data": {
      "text/plain": [
       "<tensorflow.python.keras.callbacks.History at 0x7f6d13fe9208>"
      ]
     },
     "execution_count": 68,
     "metadata": {
      "tags": []
     },
     "output_type": "execute_result"
    }
   ],
   "source": [
    "# Another Iteration of 6 epochs -- total 21 epochs\n",
    "cnn = tf.keras.models.load_model('saved_models/CNN_epochs_15_val_acc_8274.h5')\n",
    "\n",
    "cnn.fit(x = train_generator,\n",
    "        epochs = 6,\n",
    "        batch_size = 64,\n",
    "        validation_data= validation_generator,\n",
    "        callbacks=[model_checkpoint_callback])"
   ]
  },
  {
   "cell_type": "markdown",
   "metadata": {
    "id": "ev7IVv005U1S"
   },
   "source": [
    "Here the model gets Overfitted...."
   ]
  },
  {
   "cell_type": "code",
   "execution_count": 69,
   "metadata": {
    "colab": {
     "base_uri": "https://localhost:8080/",
     "height": 639
    },
    "executionInfo": {
     "elapsed": 1254,
     "status": "ok",
     "timestamp": 1608900301752,
     "user": {
      "displayName": "Deepankar Mullick",
      "photoUrl": "https://lh3.googleusercontent.com/a-/AOh14Ggmz-Nr-0TEMVo13LngNEVm6AGK4c57E-3nMbfK=s64",
      "userId": "02437168663279872146"
     },
     "user_tz": -330
    },
    "id": "DXbCg3K_sS2W",
    "outputId": "6fc137c5-fb94-4411-ce23-4c9350274f6c"
   },
   "outputs": [
    {
     "data": {
      "text/html": [
       "<div>\n",
       "<style scoped>\n",
       "    .dataframe tbody tr th:only-of-type {\n",
       "        vertical-align: middle;\n",
       "    }\n",
       "\n",
       "    .dataframe tbody tr th {\n",
       "        vertical-align: top;\n",
       "    }\n",
       "\n",
       "    .dataframe thead th {\n",
       "        text-align: right;\n",
       "    }\n",
       "</style>\n",
       "<table border=\"1\" class=\"dataframe\">\n",
       "  <thead>\n",
       "    <tr style=\"text-align: right;\">\n",
       "      <th></th>\n",
       "      <th>loss</th>\n",
       "      <th>accuracy</th>\n",
       "      <th>val_loss</th>\n",
       "      <th>val_accuracy</th>\n",
       "    </tr>\n",
       "  </thead>\n",
       "  <tbody>\n",
       "    <tr>\n",
       "      <th>0</th>\n",
       "      <td>0.659772</td>\n",
       "      <td>0.633168</td>\n",
       "      <td>0.553994</td>\n",
       "      <td>0.7228</td>\n",
       "    </tr>\n",
       "    <tr>\n",
       "      <th>1</th>\n",
       "      <td>0.556409</td>\n",
       "      <td>0.712814</td>\n",
       "      <td>0.532322</td>\n",
       "      <td>0.7288</td>\n",
       "    </tr>\n",
       "    <tr>\n",
       "      <th>2</th>\n",
       "      <td>0.513469</td>\n",
       "      <td>0.748163</td>\n",
       "      <td>0.498645</td>\n",
       "      <td>0.7582</td>\n",
       "    </tr>\n",
       "    <tr>\n",
       "      <th>3</th>\n",
       "      <td>0.484697</td>\n",
       "      <td>0.765062</td>\n",
       "      <td>0.476762</td>\n",
       "      <td>0.7734</td>\n",
       "    </tr>\n",
       "    <tr>\n",
       "      <th>4</th>\n",
       "      <td>0.472511</td>\n",
       "      <td>0.771911</td>\n",
       "      <td>0.470020</td>\n",
       "      <td>0.7708</td>\n",
       "    </tr>\n",
       "    <tr>\n",
       "      <th>5</th>\n",
       "      <td>0.448501</td>\n",
       "      <td>0.788511</td>\n",
       "      <td>0.445666</td>\n",
       "      <td>0.8028</td>\n",
       "    </tr>\n",
       "    <tr>\n",
       "      <th>6</th>\n",
       "      <td>0.435729</td>\n",
       "      <td>0.796610</td>\n",
       "      <td>0.445401</td>\n",
       "      <td>0.7992</td>\n",
       "    </tr>\n",
       "    <tr>\n",
       "      <th>7</th>\n",
       "      <td>0.417044</td>\n",
       "      <td>0.807210</td>\n",
       "      <td>0.414341</td>\n",
       "      <td>0.8052</td>\n",
       "    </tr>\n",
       "    <tr>\n",
       "      <th>8</th>\n",
       "      <td>0.406995</td>\n",
       "      <td>0.812609</td>\n",
       "      <td>0.436279</td>\n",
       "      <td>0.7932</td>\n",
       "    </tr>\n",
       "    <tr>\n",
       "      <th>9</th>\n",
       "      <td>0.472511</td>\n",
       "      <td>0.771911</td>\n",
       "      <td>0.470020</td>\n",
       "      <td>0.7708</td>\n",
       "    </tr>\n",
       "    <tr>\n",
       "      <th>10</th>\n",
       "      <td>0.448501</td>\n",
       "      <td>0.788511</td>\n",
       "      <td>0.445666</td>\n",
       "      <td>0.8028</td>\n",
       "    </tr>\n",
       "    <tr>\n",
       "      <th>11</th>\n",
       "      <td>0.435729</td>\n",
       "      <td>0.796610</td>\n",
       "      <td>0.445401</td>\n",
       "      <td>0.7992</td>\n",
       "    </tr>\n",
       "    <tr>\n",
       "      <th>12</th>\n",
       "      <td>0.417044</td>\n",
       "      <td>0.807210</td>\n",
       "      <td>0.414341</td>\n",
       "      <td>0.8052</td>\n",
       "    </tr>\n",
       "    <tr>\n",
       "      <th>13</th>\n",
       "      <td>0.406995</td>\n",
       "      <td>0.812609</td>\n",
       "      <td>0.436279</td>\n",
       "      <td>0.7932</td>\n",
       "    </tr>\n",
       "    <tr>\n",
       "      <th>14</th>\n",
       "      <td>0.337196</td>\n",
       "      <td>0.848708</td>\n",
       "      <td>0.372225</td>\n",
       "      <td>0.8380</td>\n",
       "    </tr>\n",
       "    <tr>\n",
       "      <th>15</th>\n",
       "      <td>0.332114</td>\n",
       "      <td>0.854957</td>\n",
       "      <td>0.430829</td>\n",
       "      <td>0.7986</td>\n",
       "    </tr>\n",
       "    <tr>\n",
       "      <th>16</th>\n",
       "      <td>0.318799</td>\n",
       "      <td>0.861457</td>\n",
       "      <td>0.374867</td>\n",
       "      <td>0.8380</td>\n",
       "    </tr>\n",
       "    <tr>\n",
       "      <th>17</th>\n",
       "      <td>0.312590</td>\n",
       "      <td>0.864057</td>\n",
       "      <td>0.375488</td>\n",
       "      <td>0.8372</td>\n",
       "    </tr>\n",
       "    <tr>\n",
       "      <th>18</th>\n",
       "      <td>0.310620</td>\n",
       "      <td>0.866207</td>\n",
       "      <td>0.391598</td>\n",
       "      <td>0.8320</td>\n",
       "    </tr>\n",
       "    <tr>\n",
       "      <th>19</th>\n",
       "      <td>0.303314</td>\n",
       "      <td>0.869657</td>\n",
       "      <td>0.388133</td>\n",
       "      <td>0.8270</td>\n",
       "    </tr>\n",
       "  </tbody>\n",
       "</table>\n",
       "</div>"
      ],
      "text/plain": [
       "        loss  accuracy  val_loss  val_accuracy\n",
       "0   0.659772  0.633168  0.553994        0.7228\n",
       "1   0.556409  0.712814  0.532322        0.7288\n",
       "2   0.513469  0.748163  0.498645        0.7582\n",
       "3   0.484697  0.765062  0.476762        0.7734\n",
       "4   0.472511  0.771911  0.470020        0.7708\n",
       "5   0.448501  0.788511  0.445666        0.8028\n",
       "6   0.435729  0.796610  0.445401        0.7992\n",
       "7   0.417044  0.807210  0.414341        0.8052\n",
       "8   0.406995  0.812609  0.436279        0.7932\n",
       "9   0.472511  0.771911  0.470020        0.7708\n",
       "10  0.448501  0.788511  0.445666        0.8028\n",
       "11  0.435729  0.796610  0.445401        0.7992\n",
       "12  0.417044  0.807210  0.414341        0.8052\n",
       "13  0.406995  0.812609  0.436279        0.7932\n",
       "14  0.337196  0.848708  0.372225        0.8380\n",
       "15  0.332114  0.854957  0.430829        0.7986\n",
       "16  0.318799  0.861457  0.374867        0.8380\n",
       "17  0.312590  0.864057  0.375488        0.8372\n",
       "18  0.310620  0.866207  0.391598        0.8320\n",
       "19  0.303314  0.869657  0.388133        0.8270"
      ]
     },
     "execution_count": 69,
     "metadata": {
      "tags": []
     },
     "output_type": "execute_result"
    }
   ],
   "source": [
    "history3 = _"
   ]
  },
  {
   "cell_type": "markdown",
   "metadata": {
    "id": "ImBrnfwkFv8j"
   },
   "source": [
    "From the chart we find that 17 iterations give the best result.\n"
   ]
  },
  {
   "cell_type": "code",
   "execution_count": 78,
   "metadata": {
    "colab": {
     "base_uri": "https://localhost:8080/",
     "height": 669
    },
    "executionInfo": {
     "elapsed": 1087,
     "status": "ok",
     "timestamp": 1608901687502,
     "user": {
      "displayName": "Deepankar Mullick",
      "photoUrl": "https://lh3.googleusercontent.com/a-/AOh14Ggmz-Nr-0TEMVo13LngNEVm6AGK4c57E-3nMbfK=s64",
      "userId": "02437168663279872146"
     },
     "user_tz": -330
    },
    "id": "jfhMDuQIA18Z",
    "outputId": "eacd5a0c-763a-4ac0-8e69-11bda4d563da"
   },
   "outputs": [
    {
     "data": {
      "text/html": [
       "<div>\n",
       "<style scoped>\n",
       "    .dataframe tbody tr th:only-of-type {\n",
       "        vertical-align: middle;\n",
       "    }\n",
       "\n",
       "    .dataframe tbody tr th {\n",
       "        vertical-align: top;\n",
       "    }\n",
       "\n",
       "    .dataframe thead th {\n",
       "        text-align: right;\n",
       "    }\n",
       "</style>\n",
       "<table border=\"1\" class=\"dataframe\">\n",
       "  <thead>\n",
       "    <tr style=\"text-align: right;\">\n",
       "      <th></th>\n",
       "      <th>loss</th>\n",
       "      <th>accuracy</th>\n",
       "      <th>val_loss</th>\n",
       "      <th>val_accuracy</th>\n",
       "    </tr>\n",
       "  </thead>\n",
       "  <tbody>\n",
       "    <tr>\n",
       "      <th>0</th>\n",
       "      <td>0.659772</td>\n",
       "      <td>0.633168</td>\n",
       "      <td>0.553994</td>\n",
       "      <td>0.7228</td>\n",
       "    </tr>\n",
       "    <tr>\n",
       "      <th>1</th>\n",
       "      <td>0.556409</td>\n",
       "      <td>0.712814</td>\n",
       "      <td>0.532322</td>\n",
       "      <td>0.7288</td>\n",
       "    </tr>\n",
       "    <tr>\n",
       "      <th>2</th>\n",
       "      <td>0.513469</td>\n",
       "      <td>0.748163</td>\n",
       "      <td>0.498645</td>\n",
       "      <td>0.7582</td>\n",
       "    </tr>\n",
       "    <tr>\n",
       "      <th>3</th>\n",
       "      <td>0.484697</td>\n",
       "      <td>0.765062</td>\n",
       "      <td>0.476762</td>\n",
       "      <td>0.7734</td>\n",
       "    </tr>\n",
       "    <tr>\n",
       "      <th>4</th>\n",
       "      <td>0.472511</td>\n",
       "      <td>0.771911</td>\n",
       "      <td>0.470020</td>\n",
       "      <td>0.7708</td>\n",
       "    </tr>\n",
       "    <tr>\n",
       "      <th>5</th>\n",
       "      <td>0.448501</td>\n",
       "      <td>0.788511</td>\n",
       "      <td>0.445666</td>\n",
       "      <td>0.8028</td>\n",
       "    </tr>\n",
       "    <tr>\n",
       "      <th>6</th>\n",
       "      <td>0.435729</td>\n",
       "      <td>0.796610</td>\n",
       "      <td>0.445401</td>\n",
       "      <td>0.7992</td>\n",
       "    </tr>\n",
       "    <tr>\n",
       "      <th>7</th>\n",
       "      <td>0.417044</td>\n",
       "      <td>0.807210</td>\n",
       "      <td>0.414341</td>\n",
       "      <td>0.8052</td>\n",
       "    </tr>\n",
       "    <tr>\n",
       "      <th>8</th>\n",
       "      <td>0.406995</td>\n",
       "      <td>0.812609</td>\n",
       "      <td>0.436279</td>\n",
       "      <td>0.7932</td>\n",
       "    </tr>\n",
       "    <tr>\n",
       "      <th>9</th>\n",
       "      <td>0.393792</td>\n",
       "      <td>0.822359</td>\n",
       "      <td>0.407620</td>\n",
       "      <td>0.8136</td>\n",
       "    </tr>\n",
       "    <tr>\n",
       "      <th>10</th>\n",
       "      <td>0.385927</td>\n",
       "      <td>0.823809</td>\n",
       "      <td>0.431633</td>\n",
       "      <td>0.7936</td>\n",
       "    </tr>\n",
       "    <tr>\n",
       "      <th>11</th>\n",
       "      <td>0.375813</td>\n",
       "      <td>0.830408</td>\n",
       "      <td>0.399727</td>\n",
       "      <td>0.8222</td>\n",
       "    </tr>\n",
       "    <tr>\n",
       "      <th>12</th>\n",
       "      <td>0.363842</td>\n",
       "      <td>0.837158</td>\n",
       "      <td>0.410377</td>\n",
       "      <td>0.8130</td>\n",
       "    </tr>\n",
       "    <tr>\n",
       "      <th>13</th>\n",
       "      <td>0.352271</td>\n",
       "      <td>0.845258</td>\n",
       "      <td>0.395294</td>\n",
       "      <td>0.8234</td>\n",
       "    </tr>\n",
       "    <tr>\n",
       "      <th>14</th>\n",
       "      <td>0.344496</td>\n",
       "      <td>0.851357</td>\n",
       "      <td>0.399472</td>\n",
       "      <td>0.8274</td>\n",
       "    </tr>\n",
       "    <tr>\n",
       "      <th>15</th>\n",
       "      <td>0.337196</td>\n",
       "      <td>0.848708</td>\n",
       "      <td>0.372225</td>\n",
       "      <td>0.8380</td>\n",
       "    </tr>\n",
       "    <tr>\n",
       "      <th>16</th>\n",
       "      <td>0.332114</td>\n",
       "      <td>0.854957</td>\n",
       "      <td>0.430829</td>\n",
       "      <td>0.7986</td>\n",
       "    </tr>\n",
       "    <tr>\n",
       "      <th>17</th>\n",
       "      <td>0.318799</td>\n",
       "      <td>0.861457</td>\n",
       "      <td>0.374867</td>\n",
       "      <td>0.8380</td>\n",
       "    </tr>\n",
       "    <tr>\n",
       "      <th>18</th>\n",
       "      <td>0.312590</td>\n",
       "      <td>0.864057</td>\n",
       "      <td>0.375488</td>\n",
       "      <td>0.8372</td>\n",
       "    </tr>\n",
       "    <tr>\n",
       "      <th>19</th>\n",
       "      <td>0.310620</td>\n",
       "      <td>0.866207</td>\n",
       "      <td>0.391598</td>\n",
       "      <td>0.8320</td>\n",
       "    </tr>\n",
       "    <tr>\n",
       "      <th>20</th>\n",
       "      <td>0.303314</td>\n",
       "      <td>0.869657</td>\n",
       "      <td>0.388133</td>\n",
       "      <td>0.8270</td>\n",
       "    </tr>\n",
       "  </tbody>\n",
       "</table>\n",
       "</div>"
      ],
      "text/plain": [
       "        loss  accuracy  val_loss  val_accuracy\n",
       "0   0.659772  0.633168  0.553994        0.7228\n",
       "1   0.556409  0.712814  0.532322        0.7288\n",
       "2   0.513469  0.748163  0.498645        0.7582\n",
       "3   0.484697  0.765062  0.476762        0.7734\n",
       "4   0.472511  0.771911  0.470020        0.7708\n",
       "5   0.448501  0.788511  0.445666        0.8028\n",
       "6   0.435729  0.796610  0.445401        0.7992\n",
       "7   0.417044  0.807210  0.414341        0.8052\n",
       "8   0.406995  0.812609  0.436279        0.7932\n",
       "9   0.393792  0.822359  0.407620        0.8136\n",
       "10  0.385927  0.823809  0.431633        0.7936\n",
       "11  0.375813  0.830408  0.399727        0.8222\n",
       "12  0.363842  0.837158  0.410377        0.8130\n",
       "13  0.352271  0.845258  0.395294        0.8234\n",
       "14  0.344496  0.851357  0.399472        0.8274\n",
       "15  0.337196  0.848708  0.372225        0.8380\n",
       "16  0.332114  0.854957  0.430829        0.7986\n",
       "17  0.318799  0.861457  0.374867        0.8380\n",
       "18  0.312590  0.864057  0.375488        0.8372\n",
       "19  0.310620  0.866207  0.391598        0.8320\n",
       "20  0.303314  0.869657  0.388133        0.8270"
      ]
     },
     "execution_count": 78,
     "metadata": {
      "tags": []
     },
     "output_type": "execute_result"
    }
   ],
   "source": [
    "chart_new = pd.DataFrame(history3.history)\n",
    "chart = chart.append(chart_new, ignore_index=True)\n",
    "chart"
   ]
  },
  {
   "cell_type": "code",
   "execution_count": 79,
   "metadata": {
    "colab": {
     "base_uri": "https://localhost:8080/"
    },
    "executionInfo": {
     "elapsed": 1102,
     "status": "ok",
     "timestamp": 1608901697348,
     "user": {
      "displayName": "Deepankar Mullick",
      "photoUrl": "https://lh3.googleusercontent.com/a-/AOh14Ggmz-Nr-0TEMVo13LngNEVm6AGK4c57E-3nMbfK=s64",
      "userId": "02437168663279872146"
     },
     "user_tz": -330
    },
    "id": "E80ro6cfxYdh",
    "outputId": "47385996-cf3b-4bb2-ddb0-c740b8e0e836"
   },
   "outputs": [
    {
     "data": {
      "text/plain": [
       "{'epochs': 6, 'steps': 313, 'verbose': 1}"
      ]
     },
     "execution_count": 79,
     "metadata": {
      "tags": []
     },
     "output_type": "execute_result"
    }
   ],
   "source": [
    "history3.params"
   ]
  },
  {
   "cell_type": "code",
   "execution_count": 71,
   "metadata": {
    "executionInfo": {
     "elapsed": 1474,
     "status": "ok",
     "timestamp": 1608900303705,
     "user": {
      "displayName": "Deepankar Mullick",
      "photoUrl": "https://lh3.googleusercontent.com/a-/AOh14Ggmz-Nr-0TEMVo13LngNEVm6AGK4c57E-3nMbfK=s64",
      "userId": "02437168663279872146"
     },
     "user_tz": -330
    },
    "id": "t0oi6_bVyDZq"
   },
   "outputs": [],
   "source": [
    "cnn.save('saved_models/CNN_epochs_21_val_acc_8380.h5')"
   ]
  },
  {
   "cell_type": "code",
   "execution_count": null,
   "metadata": {
    "id": "kKJYh7_FyI2D"
   },
   "outputs": [],
   "source": []
  },
  {
   "cell_type": "markdown",
   "metadata": {
    "id": "pvYPmZDGIv3j"
   },
   "source": [
    "# Saving & reading CSV files:"
   ]
  },
  {
   "cell_type": "code",
   "execution_count": 81,
   "metadata": {
    "executionInfo": {
     "elapsed": 1244,
     "status": "ok",
     "timestamp": 1608903611485,
     "user": {
      "displayName": "Deepankar Mullick",
      "photoUrl": "https://lh3.googleusercontent.com/a-/AOh14Ggmz-Nr-0TEMVo13LngNEVm6AGK4c57E-3nMbfK=s64",
      "userId": "02437168663279872146"
     },
     "user_tz": -330
    },
    "id": "w47w29aTHfP8"
   },
   "outputs": [],
   "source": [
    "chart.to_csv(\"epoch_accuracy_data.csv\", index=False)"
   ]
  },
  {
   "cell_type": "code",
   "execution_count": 83,
   "metadata": {
    "colab": {
     "base_uri": "https://localhost:8080/",
     "height": 669
    },
    "executionInfo": {
     "elapsed": 1082,
     "status": "ok",
     "timestamp": 1608903730021,
     "user": {
      "displayName": "Deepankar Mullick",
      "photoUrl": "https://lh3.googleusercontent.com/a-/AOh14Ggmz-Nr-0TEMVo13LngNEVm6AGK4c57E-3nMbfK=s64",
      "userId": "02437168663279872146"
     },
     "user_tz": -330
    },
    "id": "ZseGZHP5HfTY",
    "outputId": "06a9b8f5-f7b9-48e7-e2bd-353d95d4d540"
   },
   "outputs": [
    {
     "data": {
      "text/html": [
       "<div>\n",
       "<style scoped>\n",
       "    .dataframe tbody tr th:only-of-type {\n",
       "        vertical-align: middle;\n",
       "    }\n",
       "\n",
       "    .dataframe tbody tr th {\n",
       "        vertical-align: top;\n",
       "    }\n",
       "\n",
       "    .dataframe thead th {\n",
       "        text-align: right;\n",
       "    }\n",
       "</style>\n",
       "<table border=\"1\" class=\"dataframe\">\n",
       "  <thead>\n",
       "    <tr style=\"text-align: right;\">\n",
       "      <th></th>\n",
       "      <th>loss</th>\n",
       "      <th>accuracy</th>\n",
       "      <th>val_loss</th>\n",
       "      <th>val_accuracy</th>\n",
       "    </tr>\n",
       "  </thead>\n",
       "  <tbody>\n",
       "    <tr>\n",
       "      <th>0</th>\n",
       "      <td>0.659772</td>\n",
       "      <td>0.633168</td>\n",
       "      <td>0.553994</td>\n",
       "      <td>0.7228</td>\n",
       "    </tr>\n",
       "    <tr>\n",
       "      <th>1</th>\n",
       "      <td>0.556409</td>\n",
       "      <td>0.712814</td>\n",
       "      <td>0.532322</td>\n",
       "      <td>0.7288</td>\n",
       "    </tr>\n",
       "    <tr>\n",
       "      <th>2</th>\n",
       "      <td>0.513469</td>\n",
       "      <td>0.748163</td>\n",
       "      <td>0.498645</td>\n",
       "      <td>0.7582</td>\n",
       "    </tr>\n",
       "    <tr>\n",
       "      <th>3</th>\n",
       "      <td>0.484697</td>\n",
       "      <td>0.765062</td>\n",
       "      <td>0.476762</td>\n",
       "      <td>0.7734</td>\n",
       "    </tr>\n",
       "    <tr>\n",
       "      <th>4</th>\n",
       "      <td>0.472511</td>\n",
       "      <td>0.771911</td>\n",
       "      <td>0.470020</td>\n",
       "      <td>0.7708</td>\n",
       "    </tr>\n",
       "    <tr>\n",
       "      <th>5</th>\n",
       "      <td>0.448501</td>\n",
       "      <td>0.788511</td>\n",
       "      <td>0.445666</td>\n",
       "      <td>0.8028</td>\n",
       "    </tr>\n",
       "    <tr>\n",
       "      <th>6</th>\n",
       "      <td>0.435729</td>\n",
       "      <td>0.796610</td>\n",
       "      <td>0.445401</td>\n",
       "      <td>0.7992</td>\n",
       "    </tr>\n",
       "    <tr>\n",
       "      <th>7</th>\n",
       "      <td>0.417044</td>\n",
       "      <td>0.807210</td>\n",
       "      <td>0.414341</td>\n",
       "      <td>0.8052</td>\n",
       "    </tr>\n",
       "    <tr>\n",
       "      <th>8</th>\n",
       "      <td>0.406995</td>\n",
       "      <td>0.812609</td>\n",
       "      <td>0.436279</td>\n",
       "      <td>0.7932</td>\n",
       "    </tr>\n",
       "    <tr>\n",
       "      <th>9</th>\n",
       "      <td>0.393792</td>\n",
       "      <td>0.822359</td>\n",
       "      <td>0.407620</td>\n",
       "      <td>0.8136</td>\n",
       "    </tr>\n",
       "    <tr>\n",
       "      <th>10</th>\n",
       "      <td>0.385927</td>\n",
       "      <td>0.823809</td>\n",
       "      <td>0.431633</td>\n",
       "      <td>0.7936</td>\n",
       "    </tr>\n",
       "    <tr>\n",
       "      <th>11</th>\n",
       "      <td>0.375813</td>\n",
       "      <td>0.830408</td>\n",
       "      <td>0.399727</td>\n",
       "      <td>0.8222</td>\n",
       "    </tr>\n",
       "    <tr>\n",
       "      <th>12</th>\n",
       "      <td>0.363842</td>\n",
       "      <td>0.837158</td>\n",
       "      <td>0.410377</td>\n",
       "      <td>0.8130</td>\n",
       "    </tr>\n",
       "    <tr>\n",
       "      <th>13</th>\n",
       "      <td>0.352271</td>\n",
       "      <td>0.845258</td>\n",
       "      <td>0.395294</td>\n",
       "      <td>0.8234</td>\n",
       "    </tr>\n",
       "    <tr>\n",
       "      <th>14</th>\n",
       "      <td>0.344496</td>\n",
       "      <td>0.851357</td>\n",
       "      <td>0.399472</td>\n",
       "      <td>0.8274</td>\n",
       "    </tr>\n",
       "    <tr>\n",
       "      <th>15</th>\n",
       "      <td>0.337196</td>\n",
       "      <td>0.848708</td>\n",
       "      <td>0.372225</td>\n",
       "      <td>0.8380</td>\n",
       "    </tr>\n",
       "    <tr>\n",
       "      <th>16</th>\n",
       "      <td>0.332114</td>\n",
       "      <td>0.854957</td>\n",
       "      <td>0.430829</td>\n",
       "      <td>0.7986</td>\n",
       "    </tr>\n",
       "    <tr>\n",
       "      <th>17</th>\n",
       "      <td>0.318799</td>\n",
       "      <td>0.861457</td>\n",
       "      <td>0.374867</td>\n",
       "      <td>0.8380</td>\n",
       "    </tr>\n",
       "    <tr>\n",
       "      <th>18</th>\n",
       "      <td>0.312590</td>\n",
       "      <td>0.864057</td>\n",
       "      <td>0.375488</td>\n",
       "      <td>0.8372</td>\n",
       "    </tr>\n",
       "    <tr>\n",
       "      <th>19</th>\n",
       "      <td>0.310620</td>\n",
       "      <td>0.866207</td>\n",
       "      <td>0.391598</td>\n",
       "      <td>0.8320</td>\n",
       "    </tr>\n",
       "    <tr>\n",
       "      <th>20</th>\n",
       "      <td>0.303314</td>\n",
       "      <td>0.869657</td>\n",
       "      <td>0.388133</td>\n",
       "      <td>0.8270</td>\n",
       "    </tr>\n",
       "  </tbody>\n",
       "</table>\n",
       "</div>"
      ],
      "text/plain": [
       "        loss  accuracy  val_loss  val_accuracy\n",
       "0   0.659772  0.633168  0.553994        0.7228\n",
       "1   0.556409  0.712814  0.532322        0.7288\n",
       "2   0.513469  0.748163  0.498645        0.7582\n",
       "3   0.484697  0.765062  0.476762        0.7734\n",
       "4   0.472511  0.771911  0.470020        0.7708\n",
       "5   0.448501  0.788511  0.445666        0.8028\n",
       "6   0.435729  0.796610  0.445401        0.7992\n",
       "7   0.417044  0.807210  0.414341        0.8052\n",
       "8   0.406995  0.812609  0.436279        0.7932\n",
       "9   0.393792  0.822359  0.407620        0.8136\n",
       "10  0.385927  0.823809  0.431633        0.7936\n",
       "11  0.375813  0.830408  0.399727        0.8222\n",
       "12  0.363842  0.837158  0.410377        0.8130\n",
       "13  0.352271  0.845258  0.395294        0.8234\n",
       "14  0.344496  0.851357  0.399472        0.8274\n",
       "15  0.337196  0.848708  0.372225        0.8380\n",
       "16  0.332114  0.854957  0.430829        0.7986\n",
       "17  0.318799  0.861457  0.374867        0.8380\n",
       "18  0.312590  0.864057  0.375488        0.8372\n",
       "19  0.310620  0.866207  0.391598        0.8320\n",
       "20  0.303314  0.869657  0.388133        0.8270"
      ]
     },
     "execution_count": 83,
     "metadata": {
      "tags": []
     },
     "output_type": "execute_result"
    }
   ],
   "source": [
    "acc_chart = pd.read_csv(\"epoch_accuracy_data.csv\")\n",
    "acc_chart"
   ]
  },
  {
   "cell_type": "markdown",
   "metadata": {
    "id": "f5TkO7RtJ3Fe"
   },
   "source": [
    "The 15th index (16th epoch) appears to be the best as its having the least validation loss.\n",
    "\n",
    "But the 17th index is also good.\n",
    "\n",
    "After that we encounter **Overfitting**."
   ]
  },
  {
   "cell_type": "code",
   "execution_count": 80,
   "metadata": {
    "colab": {
     "base_uri": "https://localhost:8080/",
     "height": 324
    },
    "executionInfo": {
     "elapsed": 1315,
     "status": "ok",
     "timestamp": 1608901703863,
     "user": {
      "displayName": "Deepankar Mullick",
      "photoUrl": "https://lh3.googleusercontent.com/a-/AOh14Ggmz-Nr-0TEMVo13LngNEVm6AGK4c57E-3nMbfK=s64",
      "userId": "02437168663279872146"
     },
     "user_tz": -330
    },
    "id": "jLY3jfTwxqMc",
    "outputId": "d4b170d3-f378-48fe-bf6b-6680165e147d"
   },
   "outputs": [
    {
     "data": {
      "image/png": "[encoded data removed]",
      "text/plain": [
       "<Figure size 576x360 with 1 Axes>"
      ]
     },
     "metadata": {
      "needs_background": "light",
      "tags": []
     },
     "output_type": "display_data"
    }
   ],
   "source": [
    "pd.DataFrame(chart).plot(figsize=(8, 5))    # Width, Height\n",
    "plt.grid(True)\n",
    "plt.gca().set_ylim(0, 1)\n",
    "plt.show()"
   ]
  },
  {
   "cell_type": "code",
   "execution_count": null,
   "metadata": {
    "id": "g8Laze0rIodb"
   },
   "outputs": [],
   "source": []
  }
 ],
 "metadata": {
  "accelerator": "TPU",
  "colab": {
   "collapsed_sections": [],
   "name": "02-Creating model using Tensorflow 2.ipynb",
   "provenance": [],
   "toc_visible": true
  },
  "kernelspec": {
   "display_name": "Python 3 (ipykernel)",
   "language": "python",
   "name": "python3"
  },
  "language_info": {
   "codemirror_mode": {
    "name": "ipython",
    "version": 3
   },
   "file_extension": ".py",
   "mimetype": "text/x-python",
   "name": "python",
   "nbconvert_exporter": "python",
   "pygments_lexer": "ipython3",
   "version": "3.9.6"
  }
 },
 "nbformat": 4,
 "nbformat_minor": 1
}

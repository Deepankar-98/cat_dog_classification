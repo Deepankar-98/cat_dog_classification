{
 "cells": [
  {
   "cell_type": "markdown",
   "metadata": {
    "id": "HWKjeY_c_N0U"
   },
   "source": [
    "## Additional Information About Hardware:"
   ]
  },
  {
   "cell_type": "code",
   "execution_count": 2,
   "metadata": {
    "colab": {
     "base_uri": "https://localhost:8080/"
    },
    "executionInfo": {
     "elapsed": 3530,
     "status": "ok",
     "timestamp": 1608922275275,
     "user": {
      "displayName": "Deepankar Mullick",
      "photoUrl": "https://lh3.googleusercontent.com/a-/AOh14Ggmz-Nr-0TEMVo13LngNEVm6AGK4c57E-3nMbfK=s64",
      "userId": "02437168663279872146"
     },
     "user_tz": -330
    },
    "id": "n-ySW_7t_N0d",
    "outputId": "351776aa-bf32-4891-a253-37bdba27ac85"
   },
   "outputs": [
    {
     "name": "stdout",
     "output_type": "stream",
     "text": [
      "NVIDIA-SMI has failed because it couldn't communicate with the NVIDIA driver. Make sure that the latest NVIDIA driver is installed and running.\n",
      "\n"
     ]
    }
   ],
   "source": [
    "!nvidia-smi"
   ]
  },
  {
   "cell_type": "code",
   "execution_count": 3,
   "metadata": {
    "colab": {
     "base_uri": "https://localhost:8080/"
    },
    "executionInfo": {
     "elapsed": 5882,
     "status": "ok",
     "timestamp": 1608922278681,
     "user": {
      "displayName": "Deepankar Mullick",
      "photoUrl": "https://lh3.googleusercontent.com/a-/AOh14Ggmz-Nr-0TEMVo13LngNEVm6AGK4c57E-3nMbfK=s64",
      "userId": "02437168663279872146"
     },
     "user_tz": -330
    },
    "id": "Z9LTpDDG_N0f",
    "outputId": "e71e3e00-b481-4273-9f89-f74c316c7a9c"
   },
   "outputs": [
    {
     "data": {
      "text/plain": [
       "[name: \"/device:CPU:0\"\n",
       " device_type: \"CPU\"\n",
       " memory_limit: 268435456\n",
       " locality {\n",
       " }\n",
       " incarnation: 16753271635956218152]"
      ]
     },
     "execution_count": 3,
     "metadata": {
      "tags": []
     },
     "output_type": "execute_result"
    }
   ],
   "source": [
    "from tensorflow.python.client import  device_lib\n",
    "device_lib.list_local_devices()"
   ]
  },
  {
   "cell_type": "code",
   "execution_count": 4,
   "metadata": {
    "colab": {
     "base_uri": "https://localhost:8080/"
    },
    "executionInfo": {
     "elapsed": 5440,
     "status": "ok",
     "timestamp": 1608922278683,
     "user": {
      "displayName": "Deepankar Mullick",
      "photoUrl": "https://lh3.googleusercontent.com/a-/AOh14Ggmz-Nr-0TEMVo13LngNEVm6AGK4c57E-3nMbfK=s64",
      "userId": "02437168663279872146"
     },
     "user_tz": -330
    },
    "id": "m1Mk4x42_N0f",
    "outputId": "87090e6b-fee4-45eb-a9c1-dd03e484dbfa"
   },
   "outputs": [
    {
     "name": "stdout",
     "output_type": "stream",
     "text": [
      "processor\t: 0\n",
      "vendor_id\t: GenuineIntel\n",
      "cpu family\t: 6\n",
      "model\t\t: 63\n",
      "model name\t: Intel(R) Xeon(R) CPU @ 2.30GHz\n",
      "stepping\t: 0\n",
      "microcode\t: 0x1\n",
      "cpu MHz\t\t: 2299.998\n",
      "cache size\t: 46080 KB\n",
      "physical id\t: 0\n",
      "siblings\t: 2\n",
      "core id\t\t: 0\n",
      "cpu cores\t: 1\n",
      "apicid\t\t: 0\n",
      "initial apicid\t: 0\n",
      "fpu\t\t: yes\n",
      "fpu_exception\t: yes\n",
      "cpuid level\t: 13\n",
      "wp\t\t: yes\n",
      "flags\t\t: fpu vme de pse tsc msr pae mce cx8 apic sep mtrr pge mca cmov pat pse36 clflush mmx fxsr sse sse2 ss ht syscall nx pdpe1gb rdtscp lm constant_tsc rep_good nopl xtopology nonstop_tsc cpuid tsc_known_freq pni pclmulqdq ssse3 fma cx16 pcid sse4_1 sse4_2 x2apic movbe popcnt aes xsave avx f16c rdrand hypervisor lahf_lm abm invpcid_single ssbd ibrs ibpb stibp fsgsbase tsc_adjust bmi1 avx2 smep bmi2 erms invpcid xsaveopt arat md_clear arch_capabilities\n",
      "bugs\t\t: cpu_meltdown spectre_v1 spectre_v2 spec_store_bypass l1tf mds swapgs\n",
      "bogomips\t: 4599.99\n",
      "clflush size\t: 64\n",
      "cache_alignment\t: 64\n",
      "address sizes\t: 46 bits physical, 48 bits virtual\n",
      "power management:\n",
      "\n",
      "processor\t: 1\n",
      "vendor_id\t: GenuineIntel\n",
      "cpu family\t: 6\n",
      "model\t\t: 63\n",
      "model name\t: Intel(R) Xeon(R) CPU @ 2.30GHz\n",
      "stepping\t: 0\n",
      "microcode\t: 0x1\n",
      "cpu MHz\t\t: 2299.998\n",
      "cache size\t: 46080 KB\n",
      "physical id\t: 0\n",
      "siblings\t: 2\n",
      "core id\t\t: 0\n",
      "cpu cores\t: 1\n",
      "apicid\t\t: 1\n",
      "initial apicid\t: 1\n",
      "fpu\t\t: yes\n",
      "fpu_exception\t: yes\n",
      "cpuid level\t: 13\n",
      "wp\t\t: yes\n",
      "flags\t\t: fpu vme de pse tsc msr pae mce cx8 apic sep mtrr pge mca cmov pat pse36 clflush mmx fxsr sse sse2 ss ht syscall nx pdpe1gb rdtscp lm constant_tsc rep_good nopl xtopology nonstop_tsc cpuid tsc_known_freq pni pclmulqdq ssse3 fma cx16 pcid sse4_1 sse4_2 x2apic movbe popcnt aes xsave avx f16c rdrand hypervisor lahf_lm abm invpcid_single ssbd ibrs ibpb stibp fsgsbase tsc_adjust bmi1 avx2 smep bmi2 erms invpcid xsaveopt arat md_clear arch_capabilities\n",
      "bugs\t\t: cpu_meltdown spectre_v1 spectre_v2 spec_store_bypass l1tf mds swapgs\n",
      "bogomips\t: 4599.99\n",
      "clflush size\t: 64\n",
      "cache_alignment\t: 64\n",
      "address sizes\t: 46 bits physical, 48 bits virtual\n",
      "power management:\n",
      "\n"
     ]
    }
   ],
   "source": [
    "!cat /proc/cpuinfo"
   ]
  },
  {
   "cell_type": "code",
   "execution_count": 5,
   "metadata": {
    "colab": {
     "base_uri": "https://localhost:8080/"
    },
    "executionInfo": {
     "elapsed": 4888,
     "status": "ok",
     "timestamp": 1608922278685,
     "user": {
      "displayName": "Deepankar Mullick",
      "photoUrl": "https://lh3.googleusercontent.com/a-/AOh14Ggmz-Nr-0TEMVo13LngNEVm6AGK4c57E-3nMbfK=s64",
      "userId": "02437168663279872146"
     },
     "user_tz": -330
    },
    "id": "9fZb-irt_N0g",
    "outputId": "205f3d4f-678a-45e4-c8c2-0bdefeab59bf"
   },
   "outputs": [
    {
     "name": "stdout",
     "output_type": "stream",
     "text": [
      "MemTotal:       13333580 kB\n",
      "MemFree:        10785084 kB\n",
      "MemAvailable:   12450572 kB\n",
      "Buffers:           74800 kB\n",
      "Cached:          1731076 kB\n",
      "SwapCached:            0 kB\n",
      "Active:           718544 kB\n",
      "Inactive:        1580916 kB\n",
      "Active(anon):     452388 kB\n",
      "Inactive(anon):      332 kB\n",
      "Active(file):     266156 kB\n",
      "Inactive(file):  1580584 kB\n",
      "Unevictable:           0 kB\n",
      "Mlocked:               0 kB\n",
      "SwapTotal:             0 kB\n",
      "SwapFree:              0 kB\n",
      "Dirty:               556 kB\n",
      "Writeback:             0 kB\n",
      "AnonPages:        493412 kB\n",
      "Mapped:           330564 kB\n",
      "Shmem:               936 kB\n",
      "Slab:             157536 kB\n",
      "SReclaimable:     119328 kB\n",
      "SUnreclaim:        38208 kB\n",
      "KernelStack:        3712 kB\n",
      "PageTables:         6292 kB\n",
      "NFS_Unstable:          0 kB\n",
      "Bounce:                0 kB\n",
      "WritebackTmp:          0 kB\n",
      "CommitLimit:     6666788 kB\n",
      "Committed_AS:    2799320 kB\n",
      "VmallocTotal:   34359738367 kB\n",
      "VmallocUsed:           0 kB\n",
      "VmallocChunk:          0 kB\n",
      "Percpu:              952 kB\n",
      "AnonHugePages:         0 kB\n",
      "ShmemHugePages:        0 kB\n",
      "ShmemPmdMapped:        0 kB\n",
      "HugePages_Total:       0\n",
      "HugePages_Free:        0\n",
      "HugePages_Rsvd:        0\n",
      "HugePages_Surp:        0\n",
      "Hugepagesize:       2048 kB\n",
      "Hugetlb:               0 kB\n",
      "DirectMap4k:       81128 kB\n",
      "DirectMap2M:     4112384 kB\n",
      "DirectMap1G:    11534336 kB\n"
     ]
    }
   ],
   "source": [
    "!cat /proc/meminfo"
   ]
  },
  {
   "cell_type": "markdown",
   "metadata": {
    "id": "mavZX3NT_N0h"
   },
   "source": [
    "## Mounting Google Drive:"
   ]
  },
  {
   "cell_type": "code",
   "execution_count": 6,
   "metadata": {
    "colab": {
     "base_uri": "https://localhost:8080/"
    },
    "executionInfo": {
     "elapsed": 24721,
     "status": "ok",
     "timestamp": 1608922300348,
     "user": {
      "displayName": "Deepankar Mullick",
      "photoUrl": "https://lh3.googleusercontent.com/a-/AOh14Ggmz-Nr-0TEMVo13LngNEVm6AGK4c57E-3nMbfK=s64",
      "userId": "02437168663279872146"
     },
     "user_tz": -330
    },
    "id": "8FKCplhD__gT",
    "outputId": "f02aa9bf-2e36-41fd-8612-86f7b8a3c5fe"
   },
   "outputs": [
    {
     "name": "stdout",
     "output_type": "stream",
     "text": [
      "Mounted at /content/drive\n"
     ]
    }
   ],
   "source": [
    "from google.colab import drive\n",
    "drive.mount('/content/drive')"
   ]
  },
  {
   "cell_type": "code",
   "execution_count": 7,
   "metadata": {
    "executionInfo": {
     "elapsed": 1823,
     "status": "ok",
     "timestamp": 1608922300349,
     "user": {
      "displayName": "Deepankar Mullick",
      "photoUrl": "https://lh3.googleusercontent.com/a-/AOh14Ggmz-Nr-0TEMVo13LngNEVm6AGK4c57E-3nMbfK=s64",
      "userId": "02437168663279872146"
     },
     "user_tz": -330
    },
    "id": "I8sj4FLR_N0h"
   },
   "outputs": [],
   "source": [
    "import os\n",
    "import numpy as np\n",
    "import pandas as pd\n",
    "import matplotlib.pyplot as plt\n",
    "import tensorflow as tf\n",
    "from tensorflow.keras.layers import Conv2D\n",
    "from tensorflow.keras.preprocessing.image import ImageDataGenerator"
   ]
  },
  {
   "cell_type": "code",
   "execution_count": 8,
   "metadata": {
    "executionInfo": {
     "elapsed": 2300,
     "status": "ok",
     "timestamp": 1608922302005,
     "user": {
      "displayName": "Deepankar Mullick",
      "photoUrl": "https://lh3.googleusercontent.com/a-/AOh14Ggmz-Nr-0TEMVo13LngNEVm6AGK4c57E-3nMbfK=s64",
      "userId": "02437168663279872146"
     },
     "user_tz": -330
    },
    "id": "kkXiUBTx_N0i"
   },
   "outputs": [],
   "source": [
    "os.chdir('/content/drive/MyDrive/dogCatClassifier') # Only un-comment if rumming in google colab"
   ]
  },
  {
   "cell_type": "code",
   "execution_count": 9,
   "metadata": {
    "executionInfo": {
     "elapsed": 2961,
     "status": "ok",
     "timestamp": 1608922303251,
     "user": {
      "displayName": "Deepankar Mullick",
      "photoUrl": "https://lh3.googleusercontent.com/a-/AOh14Ggmz-Nr-0TEMVo13LngNEVm6AGK4c57E-3nMbfK=s64",
      "userId": "02437168663279872146"
     },
     "user_tz": -330
    },
    "id": "A41o1_fc_N0j"
   },
   "outputs": [],
   "source": [
    "data_path_train = os.path.join(os.getcwd(), 'datasets', 'extracted_data', 'train') "
   ]
  },
  {
   "cell_type": "code",
   "execution_count": 11,
   "metadata": {
    "colab": {
     "base_uri": "https://localhost:8080/"
    },
    "executionInfo": {
     "elapsed": 46936,
     "status": "ok",
     "timestamp": 1608922368557,
     "user": {
      "displayName": "Deepankar Mullick",
      "photoUrl": "https://lh3.googleusercontent.com/a-/AOh14Ggmz-Nr-0TEMVo13LngNEVm6AGK4c57E-3nMbfK=s64",
      "userId": "02437168663279872146"
     },
     "user_tz": -330
    },
    "id": "hKe34fkJ_N0k",
    "outputId": "6f7a40e8-c113-412c-c0a9-68919168178b"
   },
   "outputs": [
    {
     "name": "stdout",
     "output_type": "stream",
     "text": [
      "Found 25001 images belonging to 2 classes.\n"
     ]
    }
   ],
   "source": [
    "# Data Preprocessing:\n",
    "\n",
    "#1. Define image preprocessor for train\n",
    "img_train_read = ImageDataGenerator(rescale = 1./255,\n",
    "                                   shear_range = 0.2,\n",
    "                                   zoom_range = 0.2,\n",
    "                                   horizontal_flip = True,\n",
    "                                   brightness_range = [0.7, 1.0],\n",
    "                                   rotation_range = 20,\n",
    "                              )\n",
    "\n",
    "# Training Dataset:\n",
    "\n",
    "train_generator = img_train_read.flow_from_directory(\n",
    "    data_path_train,\n",
    "    target_size = (150, 150),\n",
    "   color_mode = 'rgb',\n",
    "   batch_size = 64,\n",
    "   class_mode = 'binary',\n",
    "   shuffle = True) # set as training data"
   ]
  },
  {
   "cell_type": "code",
   "execution_count": 12,
   "metadata": {
    "executionInfo": {
     "elapsed": 1323,
     "status": "ok",
     "timestamp": 1608922375020,
     "user": {
      "displayName": "Deepankar Mullick",
      "photoUrl": "https://lh3.googleusercontent.com/a-/AOh14Ggmz-Nr-0TEMVo13LngNEVm6AGK4c57E-3nMbfK=s64",
      "userId": "02437168663279872146"
     },
     "user_tz": -330
    },
    "id": "1oKxiEKl_N0m"
   },
   "outputs": [],
   "source": [
    "cnn = tf.keras.models.Sequential()\n",
    "\n",
    "\n",
    "# Adding Layers.\n",
    "cnn.add(Conv2D(filters=32, kernel_size=3, padding='same', input_shape=[150, 150, 3], activation='relu'))  # kernel_initializer not required\n",
    "\n",
    "# Step 2 - Pooling\n",
    "cnn.add(tf.keras.layers.MaxPool2D(pool_size=2, strides=2))\n",
    "\n",
    "# Adding a second convolutional layer\n",
    "cnn.add(tf.keras.layers.Conv2D(filters=32, padding='same', kernel_size=3, activation='relu'))\n",
    "cnn.add(tf.keras.layers.MaxPool2D(pool_size=2, strides=2))\n",
    "\n",
    "# Step 3 - Flattening\n",
    "cnn.add(tf.keras.layers.Flatten())\n",
    "\n",
    "# Step 4 - Full Connection\n",
    "cnn.add(tf.keras.layers.Dense(units=256, activation='relu'))\n",
    "\n",
    "# Step 5 - Output Layer\n",
    "cnn.add(tf.keras.layers.Dense(units=1, activation='sigmoid'))"
   ]
  },
  {
   "cell_type": "code",
   "execution_count": 13,
   "metadata": {
    "executionInfo": {
     "elapsed": 772,
     "status": "ok",
     "timestamp": 1608922375525,
     "user": {
      "displayName": "Deepankar Mullick",
      "photoUrl": "https://lh3.googleusercontent.com/a-/AOh14Ggmz-Nr-0TEMVo13LngNEVm6AGK4c57E-3nMbfK=s64",
      "userId": "02437168663279872146"
     },
     "user_tz": -330
    },
    "id": "-kyzVs5u_N0n"
   },
   "outputs": [],
   "source": [
    "# Model Checkpointing for saving model every epochs\n",
    "\n",
    "filepath_chpt = os.path.join(os.getcwd(), 'tmp', 'fianlChpt', 'final-epoch-{epoch:02d}-acc-{accuracy:.5f}.hdf5')\n",
    "\n",
    "model_checkpoint_callback = tf.keras.callbacks.ModelCheckpoint(\n",
    "                                  filepath=filepath_chpt,\n",
    "                                   monitor='val_loss',\n",
    "                                   verbose=0,\n",
    "                                   save_freq='epoch',\n",
    "                                   save_best_only=False,\n",
    "                                   save_weights_only=False,\n",
    "                                   mode='auto')"
   ]
  },
  {
   "cell_type": "code",
   "execution_count": 14,
   "metadata": {
    "executionInfo": {
     "elapsed": 1170,
     "status": "ok",
     "timestamp": 1608922377388,
     "user": {
      "displayName": "Deepankar Mullick",
      "photoUrl": "https://lh3.googleusercontent.com/a-/AOh14Ggmz-Nr-0TEMVo13LngNEVm6AGK4c57E-3nMbfK=s64",
      "userId": "02437168663279872146"
     },
     "user_tz": -330
    },
    "id": "moCyVrYp_N0n"
   },
   "outputs": [],
   "source": [
    "cnn.compile(optimizer = 'adam',\n",
    "            loss = 'binary_crossentropy',\n",
    "            metrics = ['accuracy'])"
   ]
  },
  {
   "cell_type": "code",
   "execution_count": 15,
   "metadata": {
    "colab": {
     "base_uri": "https://localhost:8080/",
     "height": 669
    },
    "executionInfo": {
     "elapsed": 1539,
     "status": "ok",
     "timestamp": 1608922379127,
     "user": {
      "displayName": "Deepankar Mullick",
      "photoUrl": "https://lh3.googleusercontent.com/a-/AOh14Ggmz-Nr-0TEMVo13LngNEVm6AGK4c57E-3nMbfK=s64",
      "userId": "02437168663279872146"
     },
     "user_tz": -330
    },
    "id": "3H2O_-go_N0o",
    "outputId": "4e816208-a992-4787-c6ba-312b9e0518c5"
   },
   "outputs": [
    {
     "data": {
      "text/html": [
       "<div>\n",
       "<style scoped>\n",
       "    .dataframe tbody tr th:only-of-type {\n",
       "        vertical-align: middle;\n",
       "    }\n",
       "\n",
       "    .dataframe tbody tr th {\n",
       "        vertical-align: top;\n",
       "    }\n",
       "\n",
       "    .dataframe thead th {\n",
       "        text-align: right;\n",
       "    }\n",
       "</style>\n",
       "<table border=\"1\" class=\"dataframe\">\n",
       "  <thead>\n",
       "    <tr style=\"text-align: right;\">\n",
       "      <th></th>\n",
       "      <th>loss</th>\n",
       "      <th>accuracy</th>\n",
       "      <th>val_loss</th>\n",
       "      <th>val_accuracy</th>\n",
       "    </tr>\n",
       "  </thead>\n",
       "  <tbody>\n",
       "    <tr>\n",
       "      <th>0</th>\n",
       "      <td>0.659772</td>\n",
       "      <td>0.633168</td>\n",
       "      <td>0.553994</td>\n",
       "      <td>0.7228</td>\n",
       "    </tr>\n",
       "    <tr>\n",
       "      <th>1</th>\n",
       "      <td>0.556409</td>\n",
       "      <td>0.712814</td>\n",
       "      <td>0.532322</td>\n",
       "      <td>0.7288</td>\n",
       "    </tr>\n",
       "    <tr>\n",
       "      <th>2</th>\n",
       "      <td>0.513469</td>\n",
       "      <td>0.748163</td>\n",
       "      <td>0.498645</td>\n",
       "      <td>0.7582</td>\n",
       "    </tr>\n",
       "    <tr>\n",
       "      <th>3</th>\n",
       "      <td>0.484697</td>\n",
       "      <td>0.765062</td>\n",
       "      <td>0.476762</td>\n",
       "      <td>0.7734</td>\n",
       "    </tr>\n",
       "    <tr>\n",
       "      <th>4</th>\n",
       "      <td>0.472511</td>\n",
       "      <td>0.771911</td>\n",
       "      <td>0.470020</td>\n",
       "      <td>0.7708</td>\n",
       "    </tr>\n",
       "    <tr>\n",
       "      <th>5</th>\n",
       "      <td>0.448501</td>\n",
       "      <td>0.788511</td>\n",
       "      <td>0.445666</td>\n",
       "      <td>0.8028</td>\n",
       "    </tr>\n",
       "    <tr>\n",
       "      <th>6</th>\n",
       "      <td>0.435729</td>\n",
       "      <td>0.796610</td>\n",
       "      <td>0.445401</td>\n",
       "      <td>0.7992</td>\n",
       "    </tr>\n",
       "    <tr>\n",
       "      <th>7</th>\n",
       "      <td>0.417044</td>\n",
       "      <td>0.807210</td>\n",
       "      <td>0.414341</td>\n",
       "      <td>0.8052</td>\n",
       "    </tr>\n",
       "    <tr>\n",
       "      <th>8</th>\n",
       "      <td>0.406995</td>\n",
       "      <td>0.812609</td>\n",
       "      <td>0.436279</td>\n",
       "      <td>0.7932</td>\n",
       "    </tr>\n",
       "    <tr>\n",
       "      <th>9</th>\n",
       "      <td>0.393792</td>\n",
       "      <td>0.822359</td>\n",
       "      <td>0.407620</td>\n",
       "      <td>0.8136</td>\n",
       "    </tr>\n",
       "    <tr>\n",
       "      <th>10</th>\n",
       "      <td>0.385927</td>\n",
       "      <td>0.823809</td>\n",
       "      <td>0.431633</td>\n",
       "      <td>0.7936</td>\n",
       "    </tr>\n",
       "    <tr>\n",
       "      <th>11</th>\n",
       "      <td>0.375813</td>\n",
       "      <td>0.830408</td>\n",
       "      <td>0.399727</td>\n",
       "      <td>0.8222</td>\n",
       "    </tr>\n",
       "    <tr>\n",
       "      <th>12</th>\n",
       "      <td>0.363842</td>\n",
       "      <td>0.837158</td>\n",
       "      <td>0.410377</td>\n",
       "      <td>0.8130</td>\n",
       "    </tr>\n",
       "    <tr>\n",
       "      <th>13</th>\n",
       "      <td>0.352271</td>\n",
       "      <td>0.845258</td>\n",
       "      <td>0.395294</td>\n",
       "      <td>0.8234</td>\n",
       "    </tr>\n",
       "    <tr>\n",
       "      <th>14</th>\n",
       "      <td>0.344496</td>\n",
       "      <td>0.851357</td>\n",
       "      <td>0.399472</td>\n",
       "      <td>0.8274</td>\n",
       "    </tr>\n",
       "    <tr>\n",
       "      <th>15</th>\n",
       "      <td>0.337196</td>\n",
       "      <td>0.848708</td>\n",
       "      <td>0.372225</td>\n",
       "      <td>0.8380</td>\n",
       "    </tr>\n",
       "    <tr>\n",
       "      <th>16</th>\n",
       "      <td>0.332114</td>\n",
       "      <td>0.854957</td>\n",
       "      <td>0.430829</td>\n",
       "      <td>0.7986</td>\n",
       "    </tr>\n",
       "    <tr>\n",
       "      <th>17</th>\n",
       "      <td>0.318799</td>\n",
       "      <td>0.861457</td>\n",
       "      <td>0.374867</td>\n",
       "      <td>0.8380</td>\n",
       "    </tr>\n",
       "    <tr>\n",
       "      <th>18</th>\n",
       "      <td>0.312590</td>\n",
       "      <td>0.864057</td>\n",
       "      <td>0.375488</td>\n",
       "      <td>0.8372</td>\n",
       "    </tr>\n",
       "    <tr>\n",
       "      <th>19</th>\n",
       "      <td>0.310620</td>\n",
       "      <td>0.866207</td>\n",
       "      <td>0.391598</td>\n",
       "      <td>0.8320</td>\n",
       "    </tr>\n",
       "    <tr>\n",
       "      <th>20</th>\n",
       "      <td>0.303314</td>\n",
       "      <td>0.869657</td>\n",
       "      <td>0.388133</td>\n",
       "      <td>0.8270</td>\n",
       "    </tr>\n",
       "  </tbody>\n",
       "</table>\n",
       "</div>"
      ],
      "text/plain": [
       "        loss  accuracy  val_loss  val_accuracy\n",
       "0   0.659772  0.633168  0.553994        0.7228\n",
       "1   0.556409  0.712814  0.532322        0.7288\n",
       "2   0.513469  0.748163  0.498645        0.7582\n",
       "3   0.484697  0.765062  0.476762        0.7734\n",
       "4   0.472511  0.771911  0.470020        0.7708\n",
       "5   0.448501  0.788511  0.445666        0.8028\n",
       "6   0.435729  0.796610  0.445401        0.7992\n",
       "7   0.417044  0.807210  0.414341        0.8052\n",
       "8   0.406995  0.812609  0.436279        0.7932\n",
       "9   0.393792  0.822359  0.407620        0.8136\n",
       "10  0.385927  0.823809  0.431633        0.7936\n",
       "11  0.375813  0.830408  0.399727        0.8222\n",
       "12  0.363842  0.837158  0.410377        0.8130\n",
       "13  0.352271  0.845258  0.395294        0.8234\n",
       "14  0.344496  0.851357  0.399472        0.8274\n",
       "15  0.337196  0.848708  0.372225        0.8380\n",
       "16  0.332114  0.854957  0.430829        0.7986\n",
       "17  0.318799  0.861457  0.374867        0.8380\n",
       "18  0.312590  0.864057  0.375488        0.8372\n",
       "19  0.310620  0.866207  0.391598        0.8320\n",
       "20  0.303314  0.869657  0.388133        0.8270"
      ]
     },
     "execution_count": 15,
     "metadata": {
      "tags": []
     },
     "output_type": "execute_result"
    }
   ],
   "source": [
    "train_chart = pd.read_csv(\"epoch_accuracy_data.csv\")\n",
    "train_chart"
   ]
  },
  {
   "cell_type": "markdown",
   "metadata": {
    "id": "3zZyKA3f_N0p"
   },
   "source": [
    "**15th index (16th epoch) is the best this far....**\n",
    "\n",
    "**So finally lets train the model for 16 epochs only**"
   ]
  },
  {
   "cell_type": "code",
   "execution_count": 16,
   "metadata": {
    "colab": {
     "base_uri": "https://localhost:8080/"
    },
    "executionInfo": {
     "elapsed": 16826967,
     "status": "ok",
     "timestamp": 1608939218281,
     "user": {
      "displayName": "Deepankar Mullick",
      "photoUrl": "https://lh3.googleusercontent.com/a-/AOh14Ggmz-Nr-0TEMVo13LngNEVm6AGK4c57E-3nMbfK=s64",
      "userId": "02437168663279872146"
     },
     "user_tz": -330
    },
    "id": "_HHFbIzS_N0p",
    "outputId": "6fce07c0-1b18-41c1-f3e0-cde31dba980d"
   },
   "outputs": [
    {
     "name": "stdout",
     "output_type": "stream",
     "text": [
      "Epoch 1/16\n",
      "391/391 [==============================] - 6057s 15s/step - loss: 0.7759 - accuracy: 0.5776\n",
      "Epoch 2/16\n",
      "391/391 [==============================] - 684s 2s/step - loss: 0.5707 - accuracy: 0.7017\n",
      "Epoch 3/16\n",
      "391/391 [==============================] - 671s 2s/step - loss: 0.5111 - accuracy: 0.7481\n",
      "Epoch 4/16\n",
      "391/391 [==============================] - 668s 2s/step - loss: 0.4732 - accuracy: 0.7739\n",
      "Epoch 5/16\n",
      "391/391 [==============================] - 665s 2s/step - loss: 0.4614 - accuracy: 0.7777\n",
      "Epoch 6/16\n",
      "391/391 [==============================] - 668s 2s/step - loss: 0.4344 - accuracy: 0.7965\n",
      "Epoch 7/16\n",
      "391/391 [==============================] - 668s 2s/step - loss: 0.4272 - accuracy: 0.8013\n",
      "Epoch 8/16\n",
      "391/391 [==============================] - 668s 2s/step - loss: 0.4147 - accuracy: 0.8078\n",
      "Epoch 9/16\n",
      "391/391 [==============================] - 678s 2s/step - loss: 0.3935 - accuracy: 0.8169\n",
      "Epoch 10/16\n",
      "391/391 [==============================] - 780s 2s/step - loss: 0.3896 - accuracy: 0.8195\n",
      "Epoch 11/16\n",
      "391/391 [==============================] - 797s 2s/step - loss: 0.3706 - accuracy: 0.8347\n",
      "Epoch 12/16\n",
      "391/391 [==============================] - 798s 2s/step - loss: 0.3650 - accuracy: 0.8385\n",
      "Epoch 13/16\n",
      "391/391 [==============================] - 793s 2s/step - loss: 0.3546 - accuracy: 0.8435\n",
      "Epoch 14/16\n",
      "391/391 [==============================] - 764s 2s/step - loss: 0.3488 - accuracy: 0.8460\n",
      "Epoch 15/16\n",
      "391/391 [==============================] - 719s 2s/step - loss: 0.3336 - accuracy: 0.8547\n",
      "Epoch 16/16\n",
      "391/391 [==============================] - 723s 2s/step - loss: 0.3295 - accuracy: 0.8550\n"
     ]
    },
    {
     "data": {
      "text/plain": [
       "<tensorflow.python.keras.callbacks.History at 0x7f94bd3990b8>"
      ]
     },
     "execution_count": 16,
     "metadata": {
      "tags": []
     },
     "output_type": "execute_result"
    }
   ],
   "source": [
    "# Training the CNN on the Training set and evaluating it on the Test set\n",
    "cnn.fit(x = train_generator,\n",
    "        epochs = 16,\n",
    "        batch_size = 64,\n",
    "        callbacks=[model_checkpoint_callback])"
   ]
  },
  {
   "cell_type": "code",
   "execution_count": 1,
   "metadata": {
    "colab": {
     "base_uri": "https://localhost:8080/",
     "height": 178
    },
    "executionInfo": {
     "elapsed": 3160,
     "status": "error",
     "timestamp": 1608950778889,
     "user": {
      "displayName": "Deepankar Mullick",
      "photoUrl": "https://lh3.googleusercontent.com/a-/AOh14Ggmz-Nr-0TEMVo13LngNEVm6AGK4c57E-3nMbfK=s64",
      "userId": "02437168663279872146"
     },
     "user_tz": -330
    },
    "id": "1nZIjiED_N0p",
    "outputId": "4ed4cc8c-8203-4771-81cd-9bb789d10c06"
   },
   "outputs": [
    {
     "ename": "AttributeError",
     "evalue": "ignored",
     "output_type": "error",
     "traceback": [
      "\u001b[0;31m---------------------------------------------------------------------------\u001b[0m",
      "\u001b[0;31mAttributeError\u001b[0m                            Traceback (most recent call last)",
      "\u001b[0;32m<ipython-input-1-a695269a6c48>\u001b[0m in \u001b[0;36m<module>\u001b[0;34m()\u001b[0m\n\u001b[1;32m      1\u001b[0m \u001b[0mhistory\u001b[0m \u001b[0;34m=\u001b[0m \u001b[0m_\u001b[0m\u001b[0;34m\u001b[0m\u001b[0;34m\u001b[0m\u001b[0m\n\u001b[0;32m----> 2\u001b[0;31m \u001b[0mhistory\u001b[0m\u001b[0;34m.\u001b[0m\u001b[0mparams\u001b[0m\u001b[0;34m\u001b[0m\u001b[0;34m\u001b[0m\u001b[0m\n\u001b[0m",
      "\u001b[0;31mAttributeError\u001b[0m: 'str' object has no attribute 'params'"
     ]
    }
   ],
   "source": [
    "history = _\n",
    "history.params"
   ]
  },
  {
   "cell_type": "code",
   "execution_count": null,
   "metadata": {
    "id": "9Hf1Zz_h_N0q"
   },
   "outputs": [],
   "source": [
    "chart = pd.DataFrame(history.history)\n",
    "chart"
   ]
  },
  {
   "cell_type": "code",
   "execution_count": null,
   "metadata": {
    "id": "nf5qjCW2_N0q"
   },
   "outputs": [],
   "source": [
    "pd.DataFrame(chart).plot(figsize=(8, 5))    # Width, Height\n",
    "plt.grid(True)\n",
    "plt.gca().set_ylim(0, 1)\n",
    "plt.show()"
   ]
  },
  {
   "cell_type": "code",
   "execution_count": 17,
   "metadata": {
    "executionInfo": {
     "elapsed": 2227,
     "status": "ok",
     "timestamp": 1608939220544,
     "user": {
      "displayName": "Deepankar Mullick",
      "photoUrl": "https://lh3.googleusercontent.com/a-/AOh14Ggmz-Nr-0TEMVo13LngNEVm6AGK4c57E-3nMbfK=s64",
      "userId": "02437168663279872146"
     },
     "user_tz": -330
    },
    "id": "LMr-qJG3_N0r"
   },
   "outputs": [],
   "source": [
    "cnn.save('saved_models/final_model/CNN_full_epochs_{epoch:02d}.h5')"
   ]
  },
  {
   "cell_type": "code",
   "execution_count": null,
   "metadata": {
    "id": "CfHBHad8_N0r"
   },
   "outputs": [],
   "source": []
  },
  {
   "cell_type": "code",
   "execution_count": null,
   "metadata": {
    "id": "B26SDnXj_N0s"
   },
   "outputs": [],
   "source": []
  }
 ],
 "metadata": {
  "accelerator": "TPU",
  "colab": {
   "collapsed_sections": [],
   "name": "03-Training model with full data.ipynb",
   "provenance": []
  },
  "kernelspec": {
   "display_name": "Python 3 (ipykernel)",
   "language": "python",
   "name": "python3"
  },
  "language_info": {
   "codemirror_mode": {
    "name": "ipython",
    "version": 3
   },
   "file_extension": ".py",
   "mimetype": "text/x-python",
   "name": "python",
   "nbconvert_exporter": "python",
   "pygments_lexer": "ipython3",
   "version": "3.9.6"
  }
 },
 "nbformat": 4,
 "nbformat_minor": 1
}
